{
 "cells": [
  {
   "cell_type": "markdown",
   "id": "cbc6c670-bc21-4930-8e4f-145dbfcb32c9",
   "metadata": {},
   "source": [
    "# Customer Churn"
   ]
  },
  {
   "cell_type": "markdown",
   "id": "0e2f3958-c017-4fa1-8098-0f16ebfe8778",
   "metadata": {
    "jp-MarkdownHeadingCollapsed": true
   },
   "source": [
    "# OBJECTIVE"
   ]
  },
  {
   "cell_type": "markdown",
   "id": "ff9a3450-bce0-476e-8f5c-947f280e2fec",
   "metadata": {},
   "source": [
    "1. Customer Churn & Retention Analysis\n",
    "2. Customer Churn Categorization\n",
    "3. Customer Churn prediction for customer that have 1 transaction of all time"
   ]
  },
  {
   "cell_type": "markdown",
   "id": "0e0bf8c6-b040-45d2-a520-5a79170ab9a6",
   "metadata": {},
   "source": [
    "# IMPORT PACKAGE"
   ]
  },
  {
   "cell_type": "code",
   "execution_count": 1,
   "id": "6051671e-f081-4065-8a9c-ed6b8d43b57c",
   "metadata": {},
   "outputs": [],
   "source": [
    "import pandas as pd\n",
    "import numpy as np\n",
    "import matplotlib.pyplot as plt\n",
    "import seaborn as sns\n",
    "from pandas.tseries.offsets import DateOffset\n",
    "import datetime\n",
    "\n",
    "## OVERSAMPLING\n",
    "from imblearn.over_sampling import SMOTENC\n",
    "\n",
    "## SCALLING\n",
    "from sklearn.preprocessing import StandardScaler, RobustScaler, PolynomialFeatures, MinMaxScaler, OneHotEncoder\n",
    "\n",
    "## MODEL\n",
    "from xgboost import XGBClassifier\n",
    "from sklearn.linear_model import LogisticRegression\n",
    "from sklearn.tree import DecisionTreeClassifier\n",
    "from sklearn.pipeline import Pipeline\n",
    "from sklearn.compose import ColumnTransformer\n",
    "from sklearn.model_selection import GridSearchCV, train_test_split\n",
    "import xgboost as xgb\n",
    "\n",
    "## METRIC\n",
    "from sklearn.metrics import recall_score, precision_score, accuracy_score, confusion_matrix, classification_report"
   ]
  },
  {
   "cell_type": "markdown",
   "id": "f66d60da-9d73-48dc-b5ff-fdf30d4c24d3",
   "metadata": {},
   "source": [
    "# CALLING DATASET"
   ]
  },
  {
   "cell_type": "code",
   "execution_count": 2,
   "id": "580881e7-2abb-466e-8b15-a01c324d7e1a",
   "metadata": {},
   "outputs": [
    {
     "data": {
      "text/html": [
       "<div>\n",
       "<style scoped>\n",
       "    .dataframe tbody tr th:only-of-type {\n",
       "        vertical-align: middle;\n",
       "    }\n",
       "\n",
       "    .dataframe tbody tr th {\n",
       "        vertical-align: top;\n",
       "    }\n",
       "\n",
       "    .dataframe thead th {\n",
       "        text-align: right;\n",
       "    }\n",
       "</style>\n",
       "<table border=\"1\" class=\"dataframe\">\n",
       "  <thead>\n",
       "    <tr style=\"text-align: right;\">\n",
       "      <th></th>\n",
       "      <th>order_id</th>\n",
       "      <th>product_id</th>\n",
       "      <th>product_description</th>\n",
       "      <th>quantity</th>\n",
       "      <th>order_date</th>\n",
       "      <th>unit_price</th>\n",
       "      <th>customer_id</th>\n",
       "      <th>country</th>\n",
       "    </tr>\n",
       "  </thead>\n",
       "  <tbody>\n",
       "    <tr>\n",
       "      <th>0</th>\n",
       "      <td>489434</td>\n",
       "      <td>85048</td>\n",
       "      <td>15CM CHRISTMAS GLASS BALL 20 LIGHTS</td>\n",
       "      <td>12</td>\n",
       "      <td>2009-12-01 07:45:00</td>\n",
       "      <td>6.95</td>\n",
       "      <td>13085.0</td>\n",
       "      <td>United Kingdom</td>\n",
       "    </tr>\n",
       "    <tr>\n",
       "      <th>1</th>\n",
       "      <td>489434</td>\n",
       "      <td>79323P</td>\n",
       "      <td>PINK CHERRY LIGHTS</td>\n",
       "      <td>12</td>\n",
       "      <td>2009-12-01 07:45:00</td>\n",
       "      <td>6.75</td>\n",
       "      <td>13085.0</td>\n",
       "      <td>United Kingdom</td>\n",
       "    </tr>\n",
       "    <tr>\n",
       "      <th>2</th>\n",
       "      <td>489434</td>\n",
       "      <td>79323W</td>\n",
       "      <td>WHITE CHERRY LIGHTS</td>\n",
       "      <td>12</td>\n",
       "      <td>2009-12-01 07:45:00</td>\n",
       "      <td>6.75</td>\n",
       "      <td>13085.0</td>\n",
       "      <td>United Kingdom</td>\n",
       "    </tr>\n",
       "    <tr>\n",
       "      <th>3</th>\n",
       "      <td>489434</td>\n",
       "      <td>22041</td>\n",
       "      <td>RECORD FRAME 7\" SINGLE SIZE</td>\n",
       "      <td>48</td>\n",
       "      <td>2009-12-01 07:45:00</td>\n",
       "      <td>2.10</td>\n",
       "      <td>13085.0</td>\n",
       "      <td>United Kingdom</td>\n",
       "    </tr>\n",
       "    <tr>\n",
       "      <th>4</th>\n",
       "      <td>489434</td>\n",
       "      <td>21232</td>\n",
       "      <td>STRAWBERRY CERAMIC TRINKET BOX</td>\n",
       "      <td>24</td>\n",
       "      <td>2009-12-01 07:45:00</td>\n",
       "      <td>1.25</td>\n",
       "      <td>13085.0</td>\n",
       "      <td>United Kingdom</td>\n",
       "    </tr>\n",
       "  </tbody>\n",
       "</table>\n",
       "</div>"
      ],
      "text/plain": [
       "  order_id product_id                  product_description  quantity  \\\n",
       "0   489434      85048  15CM CHRISTMAS GLASS BALL 20 LIGHTS        12   \n",
       "1   489434     79323P                   PINK CHERRY LIGHTS        12   \n",
       "2   489434     79323W                  WHITE CHERRY LIGHTS        12   \n",
       "3   489434      22041         RECORD FRAME 7\" SINGLE SIZE         48   \n",
       "4   489434      21232       STRAWBERRY CERAMIC TRINKET BOX        24   \n",
       "\n",
       "            order_date  unit_price  customer_id         country  \n",
       "0  2009-12-01 07:45:00        6.95      13085.0  United Kingdom  \n",
       "1  2009-12-01 07:45:00        6.75      13085.0  United Kingdom  \n",
       "2  2009-12-01 07:45:00        6.75      13085.0  United Kingdom  \n",
       "3  2009-12-01 07:45:00        2.10      13085.0  United Kingdom  \n",
       "4  2009-12-01 07:45:00        1.25      13085.0  United Kingdom  "
      ]
     },
     "execution_count": 2,
     "metadata": {},
     "output_type": "execute_result"
    }
   ],
   "source": [
    "path_dataset = \"../phillip morris case code/retail_transaction_data.csv\"\n",
    "df = pd.read_csv(path_dataset)\n",
    "df.head()"
   ]
  },
  {
   "cell_type": "markdown",
   "id": "c1509cd4-8980-4ee0-9dcc-eb40bcaba9f8",
   "metadata": {},
   "source": [
    "# DATA QUALITY CHECK"
   ]
  },
  {
   "cell_type": "markdown",
   "id": "32d49a20-9d01-4890-93ac-9e13ed55f080",
   "metadata": {},
   "source": [
    "## DATA TYPE"
   ]
  },
  {
   "cell_type": "code",
   "execution_count": 3,
   "id": "bea39d59-832b-4463-a94f-73cd657e90b2",
   "metadata": {},
   "outputs": [
    {
     "data": {
      "text/plain": [
       "order_id                object\n",
       "product_id              object\n",
       "product_description     object\n",
       "quantity                 int64\n",
       "order_date              object\n",
       "unit_price             float64\n",
       "customer_id            float64\n",
       "country                 object\n",
       "dtype: object"
      ]
     },
     "execution_count": 3,
     "metadata": {},
     "output_type": "execute_result"
    }
   ],
   "source": [
    "## DATATYPE CHECK\n",
    "df.dtypes"
   ]
  },
  {
   "cell_type": "code",
   "execution_count": 4,
   "id": "5576f4ff-6301-49b6-b746-572a8b28fcb4",
   "metadata": {},
   "outputs": [],
   "source": [
    "## CHANGE DATATYPE\n",
    "### customer_id --> string\n",
    "### order_date --> Timestamp\n",
    "\n",
    "df['customer_id'] = df['customer_id'].astype(str)\n",
    "df['order_date'] = pd.to_datetime(df['order_date'])\n",
    "df['customer_id'] = np.where(df['customer_id']=='nan', np.nan, df['customer_id'])"
   ]
  },
  {
   "cell_type": "code",
   "execution_count": 5,
   "id": "fe20711f-7d64-4958-9e60-291b0b1103b0",
   "metadata": {},
   "outputs": [
    {
     "data": {
      "text/plain": [
       "order_id                       object\n",
       "product_id                     object\n",
       "product_description            object\n",
       "quantity                        int64\n",
       "order_date             datetime64[ns]\n",
       "unit_price                    float64\n",
       "customer_id                    object\n",
       "country                        object\n",
       "dtype: object"
      ]
     },
     "execution_count": 5,
     "metadata": {},
     "output_type": "execute_result"
    }
   ],
   "source": [
    "df.dtypes"
   ]
  },
  {
   "cell_type": "markdown",
   "id": "d94331a7-dcac-4198-a7d4-82a8df1459c2",
   "metadata": {},
   "source": [
    "## NULL VALUES"
   ]
  },
  {
   "cell_type": "code",
   "execution_count": 6,
   "id": "89275b28-98fd-494a-8321-ea1f7b71182d",
   "metadata": {},
   "outputs": [
    {
     "data": {
      "text/plain": [
       "order_id                    0\n",
       "product_id                  0\n",
       "product_description      4382\n",
       "quantity                    0\n",
       "order_date                  0\n",
       "unit_price                  0\n",
       "customer_id            243007\n",
       "country                     0\n",
       "dtype: int64"
      ]
     },
     "execution_count": 6,
     "metadata": {},
     "output_type": "execute_result"
    }
   ],
   "source": [
    "df.isnull().sum()"
   ]
  },
  {
   "cell_type": "code",
   "execution_count": 7,
   "id": "b28a78f0-c57a-46a0-9f8c-9975030fcc14",
   "metadata": {},
   "outputs": [
    {
     "data": {
      "text/html": [
       "<div>\n",
       "<style scoped>\n",
       "    .dataframe tbody tr th:only-of-type {\n",
       "        vertical-align: middle;\n",
       "    }\n",
       "\n",
       "    .dataframe tbody tr th {\n",
       "        vertical-align: top;\n",
       "    }\n",
       "\n",
       "    .dataframe thead th {\n",
       "        text-align: right;\n",
       "    }\n",
       "</style>\n",
       "<table border=\"1\" class=\"dataframe\">\n",
       "  <thead>\n",
       "    <tr style=\"text-align: right;\">\n",
       "      <th></th>\n",
       "      <th>order_id</th>\n",
       "      <th>product_id</th>\n",
       "      <th>product_description</th>\n",
       "      <th>quantity</th>\n",
       "      <th>order_date</th>\n",
       "      <th>unit_price</th>\n",
       "      <th>customer_id</th>\n",
       "      <th>country</th>\n",
       "    </tr>\n",
       "  </thead>\n",
       "  <tbody>\n",
       "    <tr>\n",
       "      <th>263</th>\n",
       "      <td>489464</td>\n",
       "      <td>21733</td>\n",
       "      <td>85123a mixed</td>\n",
       "      <td>-96</td>\n",
       "      <td>2009-12-01 10:52:00</td>\n",
       "      <td>0.00</td>\n",
       "      <td>NaN</td>\n",
       "      <td>United Kingdom</td>\n",
       "    </tr>\n",
       "    <tr>\n",
       "      <th>283</th>\n",
       "      <td>489463</td>\n",
       "      <td>71477</td>\n",
       "      <td>short</td>\n",
       "      <td>-240</td>\n",
       "      <td>2009-12-01 10:52:00</td>\n",
       "      <td>0.00</td>\n",
       "      <td>NaN</td>\n",
       "      <td>United Kingdom</td>\n",
       "    </tr>\n",
       "    <tr>\n",
       "      <th>284</th>\n",
       "      <td>489467</td>\n",
       "      <td>85123A</td>\n",
       "      <td>21733 mixed</td>\n",
       "      <td>-192</td>\n",
       "      <td>2009-12-01 10:53:00</td>\n",
       "      <td>0.00</td>\n",
       "      <td>NaN</td>\n",
       "      <td>United Kingdom</td>\n",
       "    </tr>\n",
       "    <tr>\n",
       "      <th>470</th>\n",
       "      <td>489521</td>\n",
       "      <td>21646</td>\n",
       "      <td>NaN</td>\n",
       "      <td>-50</td>\n",
       "      <td>2009-12-01 11:44:00</td>\n",
       "      <td>0.00</td>\n",
       "      <td>NaN</td>\n",
       "      <td>United Kingdom</td>\n",
       "    </tr>\n",
       "    <tr>\n",
       "      <th>577</th>\n",
       "      <td>489525</td>\n",
       "      <td>85226C</td>\n",
       "      <td>BLUE PULL BACK RACING CAR</td>\n",
       "      <td>1</td>\n",
       "      <td>2009-12-01 11:49:00</td>\n",
       "      <td>0.55</td>\n",
       "      <td>NaN</td>\n",
       "      <td>United Kingdom</td>\n",
       "    </tr>\n",
       "    <tr>\n",
       "      <th>...</th>\n",
       "      <td>...</td>\n",
       "      <td>...</td>\n",
       "      <td>...</td>\n",
       "      <td>...</td>\n",
       "      <td>...</td>\n",
       "      <td>...</td>\n",
       "      <td>...</td>\n",
       "      <td>...</td>\n",
       "    </tr>\n",
       "    <tr>\n",
       "      <th>1066997</th>\n",
       "      <td>581498</td>\n",
       "      <td>85099B</td>\n",
       "      <td>JUMBO BAG RED RETROSPOT</td>\n",
       "      <td>5</td>\n",
       "      <td>2011-12-09 10:26:00</td>\n",
       "      <td>4.13</td>\n",
       "      <td>NaN</td>\n",
       "      <td>United Kingdom</td>\n",
       "    </tr>\n",
       "    <tr>\n",
       "      <th>1066998</th>\n",
       "      <td>581498</td>\n",
       "      <td>85099C</td>\n",
       "      <td>JUMBO  BAG BAROQUE BLACK WHITE</td>\n",
       "      <td>4</td>\n",
       "      <td>2011-12-09 10:26:00</td>\n",
       "      <td>4.13</td>\n",
       "      <td>NaN</td>\n",
       "      <td>United Kingdom</td>\n",
       "    </tr>\n",
       "    <tr>\n",
       "      <th>1066999</th>\n",
       "      <td>581498</td>\n",
       "      <td>85150</td>\n",
       "      <td>LADIES &amp; GENTLEMEN METAL SIGN</td>\n",
       "      <td>1</td>\n",
       "      <td>2011-12-09 10:26:00</td>\n",
       "      <td>4.96</td>\n",
       "      <td>NaN</td>\n",
       "      <td>United Kingdom</td>\n",
       "    </tr>\n",
       "    <tr>\n",
       "      <th>1067000</th>\n",
       "      <td>581498</td>\n",
       "      <td>85174</td>\n",
       "      <td>S/4 CACTI CANDLES</td>\n",
       "      <td>1</td>\n",
       "      <td>2011-12-09 10:26:00</td>\n",
       "      <td>10.79</td>\n",
       "      <td>NaN</td>\n",
       "      <td>United Kingdom</td>\n",
       "    </tr>\n",
       "    <tr>\n",
       "      <th>1067001</th>\n",
       "      <td>581498</td>\n",
       "      <td>DOT</td>\n",
       "      <td>DOTCOM POSTAGE</td>\n",
       "      <td>1</td>\n",
       "      <td>2011-12-09 10:26:00</td>\n",
       "      <td>1714.17</td>\n",
       "      <td>NaN</td>\n",
       "      <td>United Kingdom</td>\n",
       "    </tr>\n",
       "  </tbody>\n",
       "</table>\n",
       "<p>243007 rows × 8 columns</p>\n",
       "</div>"
      ],
      "text/plain": [
       "        order_id product_id             product_description  quantity  \\\n",
       "263       489464      21733                    85123a mixed       -96   \n",
       "283       489463      71477                           short      -240   \n",
       "284       489467     85123A                     21733 mixed      -192   \n",
       "470       489521      21646                             NaN       -50   \n",
       "577       489525     85226C       BLUE PULL BACK RACING CAR         1   \n",
       "...          ...        ...                             ...       ...   \n",
       "1066997   581498     85099B         JUMBO BAG RED RETROSPOT         5   \n",
       "1066998   581498     85099C  JUMBO  BAG BAROQUE BLACK WHITE         4   \n",
       "1066999   581498      85150   LADIES & GENTLEMEN METAL SIGN         1   \n",
       "1067000   581498      85174               S/4 CACTI CANDLES         1   \n",
       "1067001   581498        DOT                  DOTCOM POSTAGE         1   \n",
       "\n",
       "                 order_date  unit_price customer_id         country  \n",
       "263     2009-12-01 10:52:00        0.00         NaN  United Kingdom  \n",
       "283     2009-12-01 10:52:00        0.00         NaN  United Kingdom  \n",
       "284     2009-12-01 10:53:00        0.00         NaN  United Kingdom  \n",
       "470     2009-12-01 11:44:00        0.00         NaN  United Kingdom  \n",
       "577     2009-12-01 11:49:00        0.55         NaN  United Kingdom  \n",
       "...                     ...         ...         ...             ...  \n",
       "1066997 2011-12-09 10:26:00        4.13         NaN  United Kingdom  \n",
       "1066998 2011-12-09 10:26:00        4.13         NaN  United Kingdom  \n",
       "1066999 2011-12-09 10:26:00        4.96         NaN  United Kingdom  \n",
       "1067000 2011-12-09 10:26:00       10.79         NaN  United Kingdom  \n",
       "1067001 2011-12-09 10:26:00     1714.17         NaN  United Kingdom  \n",
       "\n",
       "[243007 rows x 8 columns]"
      ]
     },
     "execution_count": 7,
     "metadata": {},
     "output_type": "execute_result"
    }
   ],
   "source": [
    "df[df['customer_id'].isnull()]"
   ]
  },
  {
   "cell_type": "code",
   "execution_count": 8,
   "id": "430f873a-9f1a-4d11-a89a-f9f8a5ec2c18",
   "metadata": {},
   "outputs": [],
   "source": [
    "# aaa"
   ]
  },
  {
   "cell_type": "markdown",
   "id": "78fcbb9a-403e-4a6b-9075-6be2e1a30649",
   "metadata": {},
   "source": [
    "## DATA DESCRIBE"
   ]
  },
  {
   "cell_type": "code",
   "execution_count": 9,
   "id": "d7e759f5-9f3b-4dee-9bd2-73d79bfed435",
   "metadata": {},
   "outputs": [
    {
     "data": {
      "text/html": [
       "<div>\n",
       "<style scoped>\n",
       "    .dataframe tbody tr th:only-of-type {\n",
       "        vertical-align: middle;\n",
       "    }\n",
       "\n",
       "    .dataframe tbody tr th {\n",
       "        vertical-align: top;\n",
       "    }\n",
       "\n",
       "    .dataframe thead th {\n",
       "        text-align: right;\n",
       "    }\n",
       "</style>\n",
       "<table border=\"1\" class=\"dataframe\">\n",
       "  <thead>\n",
       "    <tr style=\"text-align: right;\">\n",
       "      <th></th>\n",
       "      <th>quantity</th>\n",
       "      <th>order_date</th>\n",
       "      <th>unit_price</th>\n",
       "    </tr>\n",
       "  </thead>\n",
       "  <tbody>\n",
       "    <tr>\n",
       "      <th>count</th>\n",
       "      <td>1.067371e+06</td>\n",
       "      <td>1067371</td>\n",
       "      <td>1.067371e+06</td>\n",
       "    </tr>\n",
       "    <tr>\n",
       "      <th>mean</th>\n",
       "      <td>9.938898e+00</td>\n",
       "      <td>2011-01-02 21:13:55.394028544</td>\n",
       "      <td>4.649388e+00</td>\n",
       "    </tr>\n",
       "    <tr>\n",
       "      <th>min</th>\n",
       "      <td>-8.099500e+04</td>\n",
       "      <td>2009-12-01 07:45:00</td>\n",
       "      <td>-5.359436e+04</td>\n",
       "    </tr>\n",
       "    <tr>\n",
       "      <th>25%</th>\n",
       "      <td>1.000000e+00</td>\n",
       "      <td>2010-07-09 09:46:00</td>\n",
       "      <td>1.250000e+00</td>\n",
       "    </tr>\n",
       "    <tr>\n",
       "      <th>50%</th>\n",
       "      <td>3.000000e+00</td>\n",
       "      <td>2010-12-07 15:28:00</td>\n",
       "      <td>2.100000e+00</td>\n",
       "    </tr>\n",
       "    <tr>\n",
       "      <th>75%</th>\n",
       "      <td>1.000000e+01</td>\n",
       "      <td>2011-07-22 10:23:00</td>\n",
       "      <td>4.150000e+00</td>\n",
       "    </tr>\n",
       "    <tr>\n",
       "      <th>max</th>\n",
       "      <td>8.099500e+04</td>\n",
       "      <td>2011-12-09 12:50:00</td>\n",
       "      <td>3.897000e+04</td>\n",
       "    </tr>\n",
       "    <tr>\n",
       "      <th>std</th>\n",
       "      <td>1.727058e+02</td>\n",
       "      <td>NaN</td>\n",
       "      <td>1.235531e+02</td>\n",
       "    </tr>\n",
       "  </tbody>\n",
       "</table>\n",
       "</div>"
      ],
      "text/plain": [
       "           quantity                     order_date    unit_price\n",
       "count  1.067371e+06                        1067371  1.067371e+06\n",
       "mean   9.938898e+00  2011-01-02 21:13:55.394028544  4.649388e+00\n",
       "min   -8.099500e+04            2009-12-01 07:45:00 -5.359436e+04\n",
       "25%    1.000000e+00            2010-07-09 09:46:00  1.250000e+00\n",
       "50%    3.000000e+00            2010-12-07 15:28:00  2.100000e+00\n",
       "75%    1.000000e+01            2011-07-22 10:23:00  4.150000e+00\n",
       "max    8.099500e+04            2011-12-09 12:50:00  3.897000e+04\n",
       "std    1.727058e+02                            NaN  1.235531e+02"
      ]
     },
     "execution_count": 9,
     "metadata": {},
     "output_type": "execute_result"
    }
   ],
   "source": [
    "df.describe()"
   ]
  },
  {
   "cell_type": "markdown",
   "id": "19b8f1eb-48c3-41a8-9dff-cce666949463",
   "metadata": {},
   "source": [
    "Quantity & unit_price have < 0 value"
   ]
  },
  {
   "cell_type": "markdown",
   "id": "295e8cd6-352a-4eae-b65a-35bb062f6d55",
   "metadata": {
    "jp-MarkdownHeadingCollapsed": true
   },
   "source": [
    "## ORDER CANCEL"
   ]
  },
  {
   "cell_type": "code",
   "execution_count": 10,
   "id": "cb757219-5f7a-4847-b56c-e47332d337ef",
   "metadata": {},
   "outputs": [],
   "source": [
    "df['order_status'] = np.where(df['order_id'].str.startswith('C'), 'CANCEL', 'SALE')"
   ]
  },
  {
   "cell_type": "code",
   "execution_count": 11,
   "id": "ababbdcb-a529-4e29-9315-b98dab727a32",
   "metadata": {},
   "outputs": [
    {
     "data": {
      "text/html": [
       "<div>\n",
       "<style scoped>\n",
       "    .dataframe tbody tr th:only-of-type {\n",
       "        vertical-align: middle;\n",
       "    }\n",
       "\n",
       "    .dataframe tbody tr th {\n",
       "        vertical-align: top;\n",
       "    }\n",
       "\n",
       "    .dataframe thead th {\n",
       "        text-align: right;\n",
       "    }\n",
       "</style>\n",
       "<table border=\"1\" class=\"dataframe\">\n",
       "  <thead>\n",
       "    <tr style=\"text-align: right;\">\n",
       "      <th></th>\n",
       "      <th>order_status</th>\n",
       "      <th>order_id</th>\n",
       "      <th>%</th>\n",
       "    </tr>\n",
       "  </thead>\n",
       "  <tbody>\n",
       "    <tr>\n",
       "      <th>0</th>\n",
       "      <td>CANCEL</td>\n",
       "      <td>8292</td>\n",
       "      <td>15.462072</td>\n",
       "    </tr>\n",
       "    <tr>\n",
       "      <th>1</th>\n",
       "      <td>SALE</td>\n",
       "      <td>45336</td>\n",
       "      <td>84.537928</td>\n",
       "    </tr>\n",
       "  </tbody>\n",
       "</table>\n",
       "</div>"
      ],
      "text/plain": [
       "  order_status  order_id          %\n",
       "0       CANCEL      8292  15.462072\n",
       "1         SALE     45336  84.537928"
      ]
     },
     "execution_count": 11,
     "metadata": {},
     "output_type": "execute_result"
    }
   ],
   "source": [
    "df_os = df.groupby('order_status').agg({'order_id':'nunique'}).reset_index()\n",
    "df_os['%'] = (df_os['order_id']/df_os['order_id'].sum())*100\n",
    "df_os"
   ]
  },
  {
   "cell_type": "markdown",
   "id": "f4aecaaa-49fc-4338-a01b-0e31be858051",
   "metadata": {},
   "source": [
    "# DATASET PREPARATION"
   ]
  },
  {
   "cell_type": "markdown",
   "id": "db220f12-ba57-44ee-939c-2698344fb43c",
   "metadata": {},
   "source": [
    "- FILTERING\n",
    "  - exclude order cancel (focused on transaction that generated value)\n",
    "  - exclude quantity =< 0\n",
    "  - exclude unit_price =< 0\n",
    "- ADD COLUMNS\n",
    "  - Revenue = `quantity` * `unit_price`\n",
    "  - year_order = Truncate Year of `order_date`\n",
    "  - year_quarter_order = Truncate Year & Quarter of `order_date`\n",
    "  - year_month_order = Truncate Year & month `order_date`"
   ]
  },
  {
   "cell_type": "code",
   "execution_count": 12,
   "id": "6f166085-c0c4-4f76-83be-f5b7a0e7ccd8",
   "metadata": {},
   "outputs": [],
   "source": [
    "## FILTER\n",
    "df = df[df['order_status'] == 'SALE']\n",
    "df = df[df['quantity'] > 0]\n",
    "df = df[df['unit_price'] > 0]"
   ]
  },
  {
   "cell_type": "code",
   "execution_count": 13,
   "id": "ffcaa8b6-2141-47a1-b9aa-8bb0ec257535",
   "metadata": {},
   "outputs": [],
   "source": [
    "## ENRICHMENT COLUMNT DATA TRANSACTION\n",
    "df['revenue'] = df['quantity'] * df['unit_price']\n",
    "df['year_order'] = df['order_date'].dt.year\n",
    "df['month_order'] = df['order_date'].dt.month\n",
    "df['year_quarter_order'] = df['order_date'].dt.to_period('Q').dt.to_timestamp()\n",
    "df['year_month_order'] = df['order_date'].dt.to_period('M').dt.to_timestamp()\n",
    "df['order_date_day'] = df['order_date'].dt.to_period('D').dt.to_timestamp()\n",
    "df['quarter'] = pd.PeriodIndex(df['order_date'], freq='Q').astype('str')\n",
    "df.head()\n",
    "\n",
    "## DAILY DATA\n",
    "df_daily = df.groupby([\n",
    "                        'order_id', 'order_date_day', 'year_month_order'\n",
    "                        , 'customer_id']).agg(\n",
    "                        {'quantity':'sum', 'revenue':'sum'}).reset_index()\n",
    "df_daily['rank_order'] = df_daily.sort_values('order_date_day', ascending=True).groupby('customer_id').cumcount()+1\n",
    "df_daily['rank_order_prev'] = df_daily['rank_order'] - 1\n",
    "df_daily = pd.merge(\n",
    "                    df_daily\n",
    "                    , df_daily[['rank_order', 'order_id', 'customer_id', 'order_date_day']]\n",
    "                    , how = 'left'\n",
    "                    , left_on = ['rank_order_prev', 'customer_id']\n",
    "                    , right_on = ['rank_order', 'customer_id']\n",
    "            ).drop(columns=['rank_order_prev', 'rank_order_y']).rename(columns={\n",
    "                'order_id_y':'prev_order_id'\n",
    "                ,'order_date_day_y' : 'prev_order_date_day'\n",
    "                , 'order_id_x' : 'order_id'\n",
    "                , 'order_date_day_x' : 'order_date_day'\n",
    "                , 'rank_order_x' : 'rank_order'\n",
    "            })\n",
    "df_daily['days_between_order'] = (df_daily['order_date_day'] - df_daily['prev_order_date_day']).dt.days\n",
    "\n",
    "## CHURN CATEGORIZATION\n",
    "df_churn_cat_raw = df_daily[df_daily['rank_order']>1]\n",
    "\n",
    "df_cat_churn = df_churn_cat_raw.groupby('customer_id').agg({'days_between_order':'mean'}).reset_index()\n",
    "df_cat_churn['churn_cat'] = np.where(df_cat_churn['days_between_order'] <= 50, 'Non Churn Customer', 'Churn Customer')\n",
    "\n",
    "df_churn = pd.merge(df, df_cat_churn, how='left', on='customer_id').drop(columns=['days_between_order'])\n",
    "df_churn['churn_cat'] = df_churn['churn_cat'].fillna('One Time Order')"
   ]
  },
  {
   "cell_type": "code",
   "execution_count": 14,
   "id": "b6731c35-37b1-47d1-84ad-872c06c5ae56",
   "metadata": {},
   "outputs": [
    {
     "data": {
      "text/html": [
       "<div>\n",
       "<style scoped>\n",
       "    .dataframe tbody tr th:only-of-type {\n",
       "        vertical-align: middle;\n",
       "    }\n",
       "\n",
       "    .dataframe tbody tr th {\n",
       "        vertical-align: top;\n",
       "    }\n",
       "\n",
       "    .dataframe thead th {\n",
       "        text-align: right;\n",
       "    }\n",
       "</style>\n",
       "<table border=\"1\" class=\"dataframe\">\n",
       "  <thead>\n",
       "    <tr style=\"text-align: right;\">\n",
       "      <th></th>\n",
       "      <th>order_id</th>\n",
       "      <th>product_id</th>\n",
       "      <th>product_description</th>\n",
       "      <th>quantity</th>\n",
       "      <th>order_date</th>\n",
       "      <th>unit_price</th>\n",
       "      <th>customer_id</th>\n",
       "      <th>country</th>\n",
       "      <th>order_status</th>\n",
       "      <th>revenue</th>\n",
       "      <th>year_order</th>\n",
       "      <th>month_order</th>\n",
       "      <th>year_quarter_order</th>\n",
       "      <th>year_month_order</th>\n",
       "      <th>order_date_day</th>\n",
       "      <th>quarter</th>\n",
       "      <th>churn_cat</th>\n",
       "    </tr>\n",
       "  </thead>\n",
       "  <tbody>\n",
       "    <tr>\n",
       "      <th>0</th>\n",
       "      <td>489434</td>\n",
       "      <td>85048</td>\n",
       "      <td>15CM CHRISTMAS GLASS BALL 20 LIGHTS</td>\n",
       "      <td>12</td>\n",
       "      <td>2009-12-01 07:45:00</td>\n",
       "      <td>6.95</td>\n",
       "      <td>13085.0</td>\n",
       "      <td>United Kingdom</td>\n",
       "      <td>SALE</td>\n",
       "      <td>83.4</td>\n",
       "      <td>2009</td>\n",
       "      <td>12</td>\n",
       "      <td>2009-10-01</td>\n",
       "      <td>2009-12-01</td>\n",
       "      <td>2009-12-01</td>\n",
       "      <td>2009Q4</td>\n",
       "      <td>Churn Customer</td>\n",
       "    </tr>\n",
       "    <tr>\n",
       "      <th>1</th>\n",
       "      <td>489434</td>\n",
       "      <td>79323P</td>\n",
       "      <td>PINK CHERRY LIGHTS</td>\n",
       "      <td>12</td>\n",
       "      <td>2009-12-01 07:45:00</td>\n",
       "      <td>6.75</td>\n",
       "      <td>13085.0</td>\n",
       "      <td>United Kingdom</td>\n",
       "      <td>SALE</td>\n",
       "      <td>81.0</td>\n",
       "      <td>2009</td>\n",
       "      <td>12</td>\n",
       "      <td>2009-10-01</td>\n",
       "      <td>2009-12-01</td>\n",
       "      <td>2009-12-01</td>\n",
       "      <td>2009Q4</td>\n",
       "      <td>Churn Customer</td>\n",
       "    </tr>\n",
       "    <tr>\n",
       "      <th>2</th>\n",
       "      <td>489434</td>\n",
       "      <td>79323W</td>\n",
       "      <td>WHITE CHERRY LIGHTS</td>\n",
       "      <td>12</td>\n",
       "      <td>2009-12-01 07:45:00</td>\n",
       "      <td>6.75</td>\n",
       "      <td>13085.0</td>\n",
       "      <td>United Kingdom</td>\n",
       "      <td>SALE</td>\n",
       "      <td>81.0</td>\n",
       "      <td>2009</td>\n",
       "      <td>12</td>\n",
       "      <td>2009-10-01</td>\n",
       "      <td>2009-12-01</td>\n",
       "      <td>2009-12-01</td>\n",
       "      <td>2009Q4</td>\n",
       "      <td>Churn Customer</td>\n",
       "    </tr>\n",
       "    <tr>\n",
       "      <th>3</th>\n",
       "      <td>489434</td>\n",
       "      <td>22041</td>\n",
       "      <td>RECORD FRAME 7\" SINGLE SIZE</td>\n",
       "      <td>48</td>\n",
       "      <td>2009-12-01 07:45:00</td>\n",
       "      <td>2.10</td>\n",
       "      <td>13085.0</td>\n",
       "      <td>United Kingdom</td>\n",
       "      <td>SALE</td>\n",
       "      <td>100.8</td>\n",
       "      <td>2009</td>\n",
       "      <td>12</td>\n",
       "      <td>2009-10-01</td>\n",
       "      <td>2009-12-01</td>\n",
       "      <td>2009-12-01</td>\n",
       "      <td>2009Q4</td>\n",
       "      <td>Churn Customer</td>\n",
       "    </tr>\n",
       "    <tr>\n",
       "      <th>4</th>\n",
       "      <td>489434</td>\n",
       "      <td>21232</td>\n",
       "      <td>STRAWBERRY CERAMIC TRINKET BOX</td>\n",
       "      <td>24</td>\n",
       "      <td>2009-12-01 07:45:00</td>\n",
       "      <td>1.25</td>\n",
       "      <td>13085.0</td>\n",
       "      <td>United Kingdom</td>\n",
       "      <td>SALE</td>\n",
       "      <td>30.0</td>\n",
       "      <td>2009</td>\n",
       "      <td>12</td>\n",
       "      <td>2009-10-01</td>\n",
       "      <td>2009-12-01</td>\n",
       "      <td>2009-12-01</td>\n",
       "      <td>2009Q4</td>\n",
       "      <td>Churn Customer</td>\n",
       "    </tr>\n",
       "  </tbody>\n",
       "</table>\n",
       "</div>"
      ],
      "text/plain": [
       "  order_id product_id                  product_description  quantity  \\\n",
       "0   489434      85048  15CM CHRISTMAS GLASS BALL 20 LIGHTS        12   \n",
       "1   489434     79323P                   PINK CHERRY LIGHTS        12   \n",
       "2   489434     79323W                  WHITE CHERRY LIGHTS        12   \n",
       "3   489434      22041         RECORD FRAME 7\" SINGLE SIZE         48   \n",
       "4   489434      21232       STRAWBERRY CERAMIC TRINKET BOX        24   \n",
       "\n",
       "           order_date  unit_price customer_id         country order_status  \\\n",
       "0 2009-12-01 07:45:00        6.95     13085.0  United Kingdom         SALE   \n",
       "1 2009-12-01 07:45:00        6.75     13085.0  United Kingdom         SALE   \n",
       "2 2009-12-01 07:45:00        6.75     13085.0  United Kingdom         SALE   \n",
       "3 2009-12-01 07:45:00        2.10     13085.0  United Kingdom         SALE   \n",
       "4 2009-12-01 07:45:00        1.25     13085.0  United Kingdom         SALE   \n",
       "\n",
       "   revenue  year_order  month_order year_quarter_order year_month_order  \\\n",
       "0     83.4        2009           12         2009-10-01       2009-12-01   \n",
       "1     81.0        2009           12         2009-10-01       2009-12-01   \n",
       "2     81.0        2009           12         2009-10-01       2009-12-01   \n",
       "3    100.8        2009           12         2009-10-01       2009-12-01   \n",
       "4     30.0        2009           12         2009-10-01       2009-12-01   \n",
       "\n",
       "  order_date_day quarter       churn_cat  \n",
       "0     2009-12-01  2009Q4  Churn Customer  \n",
       "1     2009-12-01  2009Q4  Churn Customer  \n",
       "2     2009-12-01  2009Q4  Churn Customer  \n",
       "3     2009-12-01  2009Q4  Churn Customer  \n",
       "4     2009-12-01  2009Q4  Churn Customer  "
      ]
     },
     "execution_count": 14,
     "metadata": {},
     "output_type": "execute_result"
    }
   ],
   "source": [
    "df_churn.head()"
   ]
  },
  {
   "cell_type": "markdown",
   "id": "4da68f2d-8106-409a-a03f-b21c95678b79",
   "metadata": {},
   "source": [
    "__GRANULARIY__ : \n",
    "- customer_id\n",
    "\n",
    "__COLUMNS NEED FOR MODELLING__: \n",
    "1. customer_id\n",
    "2. country_big : country per customer that contribute the most quantity\n",
    "3. product_big : product per customer that contribute the most quantity\n",
    "4. total_revenue\n",
    "5. total_quantity\n",
    "6. Order_frequency\n",
    "7. churn_category"
   ]
  },
  {
   "cell_type": "code",
   "execution_count": 15,
   "id": "ac42a35e-ad82-4fb5-9899-12074c00a547",
   "metadata": {},
   "outputs": [],
   "source": [
    "## FIND THE PRODUCT THAT HAVE THE BIGGEST QUANTITY PER CUSTOMER\n",
    "\n",
    "df_cust_p = df_churn.groupby(['customer_id', 'product_id']).agg({'quantity' : 'sum'}).reset_index()\n",
    "df_cust_p['rank_p'] = df_cust_p.sort_values('quantity', ascending=False).groupby('customer_id').cumcount()+1\n",
    "df_cust_p = df_cust_p[df_cust_p['rank_p']==1].rename(columns={'product_id' : 'product_id_big'})\n",
    "\n",
    "## FIND THE COUNTRY THAT HAVE THE BIGGEST QUANTITY PER CUSTOMER\n",
    "\n",
    "df_cust_c = df_churn.groupby(['customer_id', 'country']).agg({'quantity' : 'sum'}).reset_index()\n",
    "df_cust_c['rank_c'] = df_cust_c.sort_values('quantity', ascending=False).groupby('customer_id').cumcount()+1\n",
    "df_cust_c = df_cust_c[df_cust_c['rank_c']==1].rename(columns={'country' : 'country_big'})\n",
    "\n",
    "## FIND THE PRODUCT THAT HAVE THE BIGGEST FREQ PER CUSTOMER\n",
    "\n",
    "df_cust_p_freq = df_churn.groupby(['customer_id', 'product_id']).agg({'order_id' : 'nunique'}).reset_index()\n",
    "df_cust_p_freq['rank_freq_p'] = df_cust_p_freq.sort_values('order_id', ascending=False).groupby('customer_id').cumcount()+1\n",
    "df_cust_p_freq = df_cust_p_freq[df_cust_p_freq['rank_freq_p']==1].rename(columns={'product_id' : 'product_id_high_freq'})\n",
    "\n",
    "## FIND THE COUNTRY THAT HAVE THE BIGGEST QUANTITY PER CUSTOMER\n",
    "\n",
    "df_cust_c_freq = df_churn.groupby(['customer_id', 'country']).agg({'order_id' : 'nunique'}).reset_index()\n",
    "df_cust_c_freq['rank_freq_c'] = df_cust_c_freq.sort_values('order_id', ascending=False).groupby('customer_id').cumcount()+1\n",
    "df_cust_c_freq = df_cust_c_freq[df_cust_c_freq['rank_freq_c']==1].rename(columns={'country' : 'country_high_freq'})"
   ]
  },
  {
   "cell_type": "code",
   "execution_count": 16,
   "id": "e85654d4-cbd0-4d27-b1f2-98e861231136",
   "metadata": {},
   "outputs": [],
   "source": [
    "## DAILY DATA TRANSACTION PER ORDER & CUSTOMER & PRODUCT_ID & COUNTRY\n",
    "df_churn_daily_pc = df_churn.groupby([\n",
    "                        'order_id', 'customer_id', 'product_id', 'country']).agg(\n",
    "                        {'quantity':'sum'}).reset_index()\n",
    "df_churn_daily_pc['rank_pc'] = df_churn_daily_pc.sort_values('quantity', ascending=False)\\\n",
    "                                .groupby(['order_id', 'customer_id']).cumcount()+1\n",
    "df_churn_daily_pc_bigq = df_churn_daily_pc[df_churn_daily_pc['rank_pc'] == 1] \n",
    "\n",
    "## DAILY DATA TRANSACTION PER ORDER & CUSTOMER\n",
    "df_churn_daily = df_churn.groupby([\n",
    "                        'order_id', 'customer_id', 'order_date_day', 'churn_cat']).agg(\n",
    "                        {'quantity':'sum', 'revenue':'sum', 'unit_price':'mean'}).reset_index()\n",
    "df_churn_daily['rank_order'] = df_churn_daily.sort_values('order_date_day', ascending=True)\\\n",
    "                                .groupby('customer_id').cumcount()+1\n",
    "\n",
    "df_churn_daily_agg_cust = df_churn_daily.groupby('customer_id')\\\n",
    "                        .agg({'order_id':'nunique'})\\\n",
    "                        .rename(columns={'order_id':'n_order_per_cust'}).reset_index()\n",
    "\n",
    "df_churn_daily = pd.merge(df_churn_daily, df_churn_daily_agg_cust, how='left', on='customer_id')\n",
    "df_churn_daily = pd.merge(df_churn_daily, df_churn_daily_pc_bigq, how='left', on=['order_id'\n",
    "                                                                                  , 'customer_id'])\\\n",
    "                    .drop(columns=['quantity_y', 'rank_pc'])\\\n",
    "                    .rename(columns={'quantity_x':'quantity', 'product_id':'big_product_id'\n",
    "                                     , 'country':'big_country'})\n",
    "df_churn_daily['year_order'] = df_churn_daily['order_date_day'].dt.year.astype('str')\n",
    "df_churn_daily['quarter_order'] = df_churn_daily['order_date_day'].dt.quarter.astype('str')\n",
    "df_churn_daily['month_order'] = df_churn_daily['order_date_day'].dt.month.astype('str')\n",
    "df_churn_daily['day_order'] = df_churn_daily['order_date_day'].dt.day.astype('str')\n",
    "df_churn_daily['season'] = np.where(df_churn_daily['month_order'].astype('str').isin(['12','1', '2']), 'Winter', \n",
    "                           np.where(df_churn_daily['month_order'].astype('str').isin(['3','4', '5']), 'Spring', \n",
    "                            np.where(df_churn_daily['month_order'].astype('str').isin(['6','7', '8']), 'Summer', 'Fall')))\n",
    "\n",
    "## GET LAST PRODUCT & COUNTRY PER CUSTOMER\n",
    "\n",
    "df_cust_last_pc = df_churn_daily[df_churn_daily['rank_order']==df_churn_daily['n_order_per_cust']]\\\n",
    "                    [['customer_id','big_product_id', 'big_country']].rename(columns={\n",
    "                        'big_product_id' : 'last_product_id'\n",
    "                        , 'big_country' : 'last_country'\n",
    "                    })\n",
    "\n",
    "df_cust_last_pc.head()\n",
    "\n",
    "\n",
    "## JOIN ALL\n",
    "df_churn_daily_final = pd.merge(\n",
    "    pd.merge(df_churn_daily, df_cust_p[['customer_id', 'product_id_big']], how='left', on='customer_id')\n",
    "    , df_cust_c[['customer_id', 'country_big']]\n",
    "    , how='left'\n",
    "    , on='customer_id'\n",
    ")\n",
    "\n",
    "df_churn_daily_final = pd.merge(\n",
    "    pd.merge(df_churn_daily_final, df_cust_p_freq[['customer_id', 'product_id_high_freq']], how='left', on='customer_id')\n",
    "    , df_cust_c_freq[['customer_id', 'country_high_freq']]\n",
    "    , how='left'\n",
    "    , on='customer_id'\n",
    ")\n",
    "\n",
    "df_churn_daily_final = pd.merge(\n",
    "    df_churn_daily_final\n",
    "    , df_cust_last_pc[['customer_id', 'last_product_id', 'last_country']]\n",
    "    , how='left'\n",
    "    , on='customer_id'\n",
    ")\n",
    "\n",
    "## DATA CHURN AGG PER CUSTOMER\n",
    "### SUMMARIZE METRIC\n",
    "\n",
    "df_cust_churn = df_churn_daily_final.groupby(['customer_id', 'country_big', 'product_id_big', 'churn_cat']).agg({\n",
    "    'quantity' : 'sum'\n",
    "    , 'revenue' : 'sum'\n",
    "    , 'order_id' : 'nunique'\n",
    "}).reset_index().rename(columns={\n",
    "    'quantity' : 'total_quantity'\n",
    "    , 'revenue' : 'total_revenue'\n",
    "    , 'order_id' : 'order_freq'\n",
    "    , 'churn_cat' : 'churn_category'\n",
    "})"
   ]
  },
  {
   "cell_type": "code",
   "execution_count": 17,
   "id": "1a0b9167-1cf4-409a-8322-299868fd1d11",
   "metadata": {},
   "outputs": [
    {
     "data": {
      "text/html": [
       "<div>\n",
       "<style scoped>\n",
       "    .dataframe tbody tr th:only-of-type {\n",
       "        vertical-align: middle;\n",
       "    }\n",
       "\n",
       "    .dataframe tbody tr th {\n",
       "        vertical-align: top;\n",
       "    }\n",
       "\n",
       "    .dataframe thead th {\n",
       "        text-align: right;\n",
       "    }\n",
       "</style>\n",
       "<table border=\"1\" class=\"dataframe\">\n",
       "  <thead>\n",
       "    <tr style=\"text-align: right;\">\n",
       "      <th></th>\n",
       "      <th>customer_id</th>\n",
       "      <th>country_big</th>\n",
       "      <th>product_id_big</th>\n",
       "      <th>churn_category</th>\n",
       "      <th>total_quantity</th>\n",
       "      <th>total_revenue</th>\n",
       "      <th>order_freq</th>\n",
       "    </tr>\n",
       "  </thead>\n",
       "  <tbody>\n",
       "    <tr>\n",
       "      <th>0</th>\n",
       "      <td>12346.0</td>\n",
       "      <td>United Kingdom</td>\n",
       "      <td>23166</td>\n",
       "      <td>Non Churn Customer</td>\n",
       "      <td>74285</td>\n",
       "      <td>77556.46</td>\n",
       "      <td>12</td>\n",
       "    </tr>\n",
       "    <tr>\n",
       "      <th>1</th>\n",
       "      <td>12347.0</td>\n",
       "      <td>Iceland</td>\n",
       "      <td>23076</td>\n",
       "      <td>Churn Customer</td>\n",
       "      <td>3286</td>\n",
       "      <td>5633.32</td>\n",
       "      <td>8</td>\n",
       "    </tr>\n",
       "    <tr>\n",
       "      <th>2</th>\n",
       "      <td>12348.0</td>\n",
       "      <td>Finland</td>\n",
       "      <td>23077</td>\n",
       "      <td>Churn Customer</td>\n",
       "      <td>2714</td>\n",
       "      <td>2019.40</td>\n",
       "      <td>5</td>\n",
       "    </tr>\n",
       "    <tr>\n",
       "      <th>3</th>\n",
       "      <td>12349.0</td>\n",
       "      <td>Italy</td>\n",
       "      <td>21232</td>\n",
       "      <td>Churn Customer</td>\n",
       "      <td>1624</td>\n",
       "      <td>4428.69</td>\n",
       "      <td>4</td>\n",
       "    </tr>\n",
       "    <tr>\n",
       "      <th>4</th>\n",
       "      <td>12350.0</td>\n",
       "      <td>Norway</td>\n",
       "      <td>22348</td>\n",
       "      <td>One Time Order</td>\n",
       "      <td>197</td>\n",
       "      <td>334.40</td>\n",
       "      <td>1</td>\n",
       "    </tr>\n",
       "  </tbody>\n",
       "</table>\n",
       "</div>"
      ],
      "text/plain": [
       "  customer_id     country_big product_id_big      churn_category  \\\n",
       "0     12346.0  United Kingdom          23166  Non Churn Customer   \n",
       "1     12347.0         Iceland          23076      Churn Customer   \n",
       "2     12348.0         Finland          23077      Churn Customer   \n",
       "3     12349.0           Italy          21232      Churn Customer   \n",
       "4     12350.0          Norway          22348      One Time Order   \n",
       "\n",
       "   total_quantity  total_revenue  order_freq  \n",
       "0           74285       77556.46          12  \n",
       "1            3286        5633.32           8  \n",
       "2            2714        2019.40           5  \n",
       "3            1624        4428.69           4  \n",
       "4             197         334.40           1  "
      ]
     },
     "execution_count": 17,
     "metadata": {},
     "output_type": "execute_result"
    }
   ],
   "source": [
    "df_cust_churn.head()\n",
    "# aaa"
   ]
  },
  {
   "cell_type": "markdown",
   "id": "b434d585-9a64-4fa1-95e9-d98f3a83fdc1",
   "metadata": {},
   "source": [
    "# DATASET MODEL CLASSIFICATION PREPARATION"
   ]
  },
  {
   "cell_type": "markdown",
   "id": "5ef4e4dc-4219-4354-b86f-d01d85e1f1b1",
   "metadata": {},
   "source": [
    "__Drop Column customer_id from dataset per customer (df_cust_churn)__\n",
    "\n",
    "__DATA FOR MODELLING__\n",
    "1. Only customer that have total order > 1 of all time"
   ]
  },
  {
   "cell_type": "code",
   "execution_count": 18,
   "id": "a5694fcf-9d2f-4b09-b606-592666934887",
   "metadata": {},
   "outputs": [
    {
     "data": {
      "text/plain": [
       "array(['Non Churn Customer', 'Churn Customer', 'One Time Order'],\n",
       "      dtype=object)"
      ]
     },
     "execution_count": 18,
     "metadata": {},
     "output_type": "execute_result"
    }
   ],
   "source": [
    "df_cust_churn['churn_category'].unique()"
   ]
  },
  {
   "cell_type": "code",
   "execution_count": 19,
   "id": "c58b3eca-9a6b-483a-8339-4d382f552480",
   "metadata": {},
   "outputs": [
    {
     "data": {
      "text/html": [
       "<div>\n",
       "<style scoped>\n",
       "    .dataframe tbody tr th:only-of-type {\n",
       "        vertical-align: middle;\n",
       "    }\n",
       "\n",
       "    .dataframe tbody tr th {\n",
       "        vertical-align: top;\n",
       "    }\n",
       "\n",
       "    .dataframe thead th {\n",
       "        text-align: right;\n",
       "    }\n",
       "</style>\n",
       "<table border=\"1\" class=\"dataframe\">\n",
       "  <thead>\n",
       "    <tr style=\"text-align: right;\">\n",
       "      <th></th>\n",
       "      <th>country_big</th>\n",
       "      <th>product_id_big</th>\n",
       "      <th>churn_category</th>\n",
       "      <th>total_quantity</th>\n",
       "      <th>total_revenue</th>\n",
       "      <th>order_freq</th>\n",
       "    </tr>\n",
       "  </thead>\n",
       "  <tbody>\n",
       "    <tr>\n",
       "      <th>0</th>\n",
       "      <td>United Kingdom</td>\n",
       "      <td>23166</td>\n",
       "      <td>Non Churn Customer</td>\n",
       "      <td>74285</td>\n",
       "      <td>77556.46</td>\n",
       "      <td>12</td>\n",
       "    </tr>\n",
       "    <tr>\n",
       "      <th>1</th>\n",
       "      <td>Iceland</td>\n",
       "      <td>23076</td>\n",
       "      <td>Churn Customer</td>\n",
       "      <td>3286</td>\n",
       "      <td>5633.32</td>\n",
       "      <td>8</td>\n",
       "    </tr>\n",
       "    <tr>\n",
       "      <th>2</th>\n",
       "      <td>Finland</td>\n",
       "      <td>23077</td>\n",
       "      <td>Churn Customer</td>\n",
       "      <td>2714</td>\n",
       "      <td>2019.40</td>\n",
       "      <td>5</td>\n",
       "    </tr>\n",
       "    <tr>\n",
       "      <th>3</th>\n",
       "      <td>Italy</td>\n",
       "      <td>21232</td>\n",
       "      <td>Churn Customer</td>\n",
       "      <td>1624</td>\n",
       "      <td>4428.69</td>\n",
       "      <td>4</td>\n",
       "    </tr>\n",
       "    <tr>\n",
       "      <th>6</th>\n",
       "      <td>Norway</td>\n",
       "      <td>84050</td>\n",
       "      <td>Non Churn Customer</td>\n",
       "      <td>724</td>\n",
       "      <td>2849.84</td>\n",
       "      <td>10</td>\n",
       "    </tr>\n",
       "  </tbody>\n",
       "</table>\n",
       "</div>"
      ],
      "text/plain": [
       "      country_big product_id_big      churn_category  total_quantity  \\\n",
       "0  United Kingdom          23166  Non Churn Customer           74285   \n",
       "1         Iceland          23076      Churn Customer            3286   \n",
       "2         Finland          23077      Churn Customer            2714   \n",
       "3           Italy          21232      Churn Customer            1624   \n",
       "6          Norway          84050  Non Churn Customer             724   \n",
       "\n",
       "   total_revenue  order_freq  \n",
       "0       77556.46          12  \n",
       "1        5633.32           8  \n",
       "2        2019.40           5  \n",
       "3        4428.69           4  \n",
       "6        2849.84          10  "
      ]
     },
     "execution_count": 19,
     "metadata": {},
     "output_type": "execute_result"
    }
   ],
   "source": [
    "df_model = df_cust_churn[df_cust_churn['churn_category']!= 'One Time Order'].drop(columns='customer_id')\n",
    "\n",
    "df_model.head()"
   ]
  },
  {
   "cell_type": "markdown",
   "id": "2eb25cd1-4411-4c04-8c84-9ad0606d6262",
   "metadata": {},
   "source": [
    "# MODELLING"
   ]
  },
  {
   "cell_type": "markdown",
   "id": "646424cc-892e-4677-81b1-a5138777247e",
   "metadata": {},
   "source": [
    "## TRAIN TEST SPLIT"
   ]
  },
  {
   "cell_type": "code",
   "execution_count": 20,
   "id": "60086896-7f8e-4cd1-a261-9a0f11d7c0f8",
   "metadata": {},
   "outputs": [
    {
     "data": {
      "text/plain": [
       "array(['Non Churn Customer', 'Churn Customer'], dtype=object)"
      ]
     },
     "execution_count": 20,
     "metadata": {},
     "output_type": "execute_result"
    }
   ],
   "source": [
    "df_model['churn_category'].unique()"
   ]
  },
  {
   "cell_type": "code",
   "execution_count": 21,
   "id": "7c22d794-5b1e-445f-807a-f8f38c3a1576",
   "metadata": {},
   "outputs": [
    {
     "data": {
      "text/html": [
       "<div>\n",
       "<style scoped>\n",
       "    .dataframe tbody tr th:only-of-type {\n",
       "        vertical-align: middle;\n",
       "    }\n",
       "\n",
       "    .dataframe tbody tr th {\n",
       "        vertical-align: top;\n",
       "    }\n",
       "\n",
       "    .dataframe thead th {\n",
       "        text-align: right;\n",
       "    }\n",
       "</style>\n",
       "<table border=\"1\" class=\"dataframe\">\n",
       "  <thead>\n",
       "    <tr style=\"text-align: right;\">\n",
       "      <th></th>\n",
       "      <th>country_big</th>\n",
       "      <th>product_id_big</th>\n",
       "      <th>churn_category</th>\n",
       "      <th>total_quantity</th>\n",
       "      <th>total_revenue</th>\n",
       "      <th>order_freq</th>\n",
       "    </tr>\n",
       "  </thead>\n",
       "  <tbody>\n",
       "    <tr>\n",
       "      <th>0</th>\n",
       "      <td>United Kingdom</td>\n",
       "      <td>23166</td>\n",
       "      <td>0</td>\n",
       "      <td>74285</td>\n",
       "      <td>77556.46</td>\n",
       "      <td>12</td>\n",
       "    </tr>\n",
       "    <tr>\n",
       "      <th>1</th>\n",
       "      <td>Iceland</td>\n",
       "      <td>23076</td>\n",
       "      <td>1</td>\n",
       "      <td>3286</td>\n",
       "      <td>5633.32</td>\n",
       "      <td>8</td>\n",
       "    </tr>\n",
       "    <tr>\n",
       "      <th>2</th>\n",
       "      <td>Finland</td>\n",
       "      <td>23077</td>\n",
       "      <td>1</td>\n",
       "      <td>2714</td>\n",
       "      <td>2019.40</td>\n",
       "      <td>5</td>\n",
       "    </tr>\n",
       "    <tr>\n",
       "      <th>3</th>\n",
       "      <td>Italy</td>\n",
       "      <td>21232</td>\n",
       "      <td>1</td>\n",
       "      <td>1624</td>\n",
       "      <td>4428.69</td>\n",
       "      <td>4</td>\n",
       "    </tr>\n",
       "    <tr>\n",
       "      <th>6</th>\n",
       "      <td>Norway</td>\n",
       "      <td>84050</td>\n",
       "      <td>0</td>\n",
       "      <td>724</td>\n",
       "      <td>2849.84</td>\n",
       "      <td>10</td>\n",
       "    </tr>\n",
       "  </tbody>\n",
       "</table>\n",
       "</div>"
      ],
      "text/plain": [
       "      country_big product_id_big  churn_category  total_quantity  \\\n",
       "0  United Kingdom          23166               0           74285   \n",
       "1         Iceland          23076               1            3286   \n",
       "2         Finland          23077               1            2714   \n",
       "3           Italy          21232               1            1624   \n",
       "6          Norway          84050               0             724   \n",
       "\n",
       "   total_revenue  order_freq  \n",
       "0       77556.46          12  \n",
       "1        5633.32           8  \n",
       "2        2019.40           5  \n",
       "3        4428.69           4  \n",
       "6        2849.84          10  "
      ]
     },
     "execution_count": 21,
     "metadata": {},
     "output_type": "execute_result"
    }
   ],
   "source": [
    "# change target column values to numeric value\n",
    "\n",
    "df_model['churn_category'] = np.where(df_model['churn_category'] == 'Non Churn Customer', 0, 1)\n",
    "df_model.head()"
   ]
  },
  {
   "cell_type": "code",
   "execution_count": 22,
   "id": "a11309b1-1246-4613-ad7c-75fbc788477b",
   "metadata": {},
   "outputs": [],
   "source": [
    "# seperate the columns into X and Y\n",
    "\n",
    "X = df_model.drop(columns='churn_category')\n",
    "y = df_model['churn_category']"
   ]
  },
  {
   "cell_type": "code",
   "execution_count": 23,
   "id": "6a478e8e-2d04-4214-aef4-0402c5fb1341",
   "metadata": {},
   "outputs": [],
   "source": [
    "# data splitting\n",
    "\n",
    "x_train, x_test, y_train, y_test = train_test_split(X, y, stratify=y, test_size=.20, random_state=42)"
   ]
  },
  {
   "cell_type": "markdown",
   "id": "92d3ad24-3f06-497f-acdf-68d0d87d42e0",
   "metadata": {},
   "source": [
    "## CHECK IMBALANCE DATA & OVER SAMPLING"
   ]
  },
  {
   "cell_type": "markdown",
   "id": "65eb5f2f-2deb-4901-a306-86662da8ff41",
   "metadata": {},
   "source": [
    "If imbalance, than use SMOTE Oversampling method\n",
    "\n",
    "here's the figure of SMOTE Oversampling to give some prespective\n",
    "\n",
    "![SMOTE](https://miro.medium.com/v2/resize:fit:1400/0*MaZhmNw4iqK4M086.png)"
   ]
  },
  {
   "cell_type": "code",
   "execution_count": 24,
   "id": "445b0b09-b2c7-40cd-ad75-32b8d6fa07c4",
   "metadata": {},
   "outputs": [
    {
     "data": {
      "text/html": [
       "<div>\n",
       "<style scoped>\n",
       "    .dataframe tbody tr th:only-of-type {\n",
       "        vertical-align: middle;\n",
       "    }\n",
       "\n",
       "    .dataframe tbody tr th {\n",
       "        vertical-align: top;\n",
       "    }\n",
       "\n",
       "    .dataframe thead th {\n",
       "        text-align: right;\n",
       "    }\n",
       "</style>\n",
       "<table border=\"1\" class=\"dataframe\">\n",
       "  <thead>\n",
       "    <tr style=\"text-align: right;\">\n",
       "      <th></th>\n",
       "      <th>country_big</th>\n",
       "      <th>product_id_big</th>\n",
       "      <th>total_quantity</th>\n",
       "      <th>total_revenue</th>\n",
       "      <th>order_freq</th>\n",
       "      <th>churn_category</th>\n",
       "    </tr>\n",
       "  </thead>\n",
       "  <tbody>\n",
       "    <tr>\n",
       "      <th>5233</th>\n",
       "      <td>United Kingdom</td>\n",
       "      <td>84818</td>\n",
       "      <td>280</td>\n",
       "      <td>547.06</td>\n",
       "      <td>2</td>\n",
       "      <td>1</td>\n",
       "    </tr>\n",
       "    <tr>\n",
       "      <th>2892</th>\n",
       "      <td>United Kingdom</td>\n",
       "      <td>21181</td>\n",
       "      <td>428</td>\n",
       "      <td>961.90</td>\n",
       "      <td>3</td>\n",
       "      <td>1</td>\n",
       "    </tr>\n",
       "    <tr>\n",
       "      <th>1566</th>\n",
       "      <td>United Kingdom</td>\n",
       "      <td>84598</td>\n",
       "      <td>3488</td>\n",
       "      <td>5257.38</td>\n",
       "      <td>11</td>\n",
       "      <td>1</td>\n",
       "    </tr>\n",
       "    <tr>\n",
       "      <th>5433</th>\n",
       "      <td>United Kingdom</td>\n",
       "      <td>20668</td>\n",
       "      <td>37558</td>\n",
       "      <td>70884.07</td>\n",
       "      <td>211</td>\n",
       "      <td>0</td>\n",
       "    </tr>\n",
       "    <tr>\n",
       "      <th>4400</th>\n",
       "      <td>United Kingdom</td>\n",
       "      <td>21845</td>\n",
       "      <td>898</td>\n",
       "      <td>1545.62</td>\n",
       "      <td>6</td>\n",
       "      <td>0</td>\n",
       "    </tr>\n",
       "  </tbody>\n",
       "</table>\n",
       "</div>"
      ],
      "text/plain": [
       "         country_big product_id_big  total_quantity  total_revenue  \\\n",
       "5233  United Kingdom          84818             280         547.06   \n",
       "2892  United Kingdom          21181             428         961.90   \n",
       "1566  United Kingdom          84598            3488        5257.38   \n",
       "5433  United Kingdom          20668           37558       70884.07   \n",
       "4400  United Kingdom          21845             898        1545.62   \n",
       "\n",
       "      order_freq  churn_category  \n",
       "5233           2               1  \n",
       "2892           3               1  \n",
       "1566          11               1  \n",
       "5433         211               0  \n",
       "4400           6               0  "
      ]
     },
     "execution_count": 24,
     "metadata": {},
     "output_type": "execute_result"
    }
   ],
   "source": [
    "df_train = pd.concat([x_train,y_train], axis=1)\n",
    "df_train.head()"
   ]
  },
  {
   "cell_type": "code",
   "execution_count": 25,
   "id": "b72ddaee-162b-42c1-a5ec-c836d0f72597",
   "metadata": {},
   "outputs": [
    {
     "data": {
      "text/plain": [
       "churn_category\n",
       "1    66.01\n",
       "0    33.99\n",
       "Name: count, dtype: float64"
      ]
     },
     "execution_count": 25,
     "metadata": {},
     "output_type": "execute_result"
    }
   ],
   "source": [
    "# check data imbalance in df_train\n",
    "\n",
    "round(df_train['churn_category'].value_counts()/len(df_train)*100, 2)"
   ]
  },
  {
   "cell_type": "markdown",
   "id": "e50705e7-75c3-4086-8d0c-809f59f7d5f7",
   "metadata": {},
   "source": [
    "__IMBALANCE!__"
   ]
  },
  {
   "cell_type": "code",
   "execution_count": 26,
   "id": "f25f964f-0ca4-4545-980f-8ab03d9e9229",
   "metadata": {},
   "outputs": [
    {
     "data": {
      "text/plain": [
       "country_big        object\n",
       "product_id_big     object\n",
       "total_quantity      int64\n",
       "total_revenue     float64\n",
       "order_freq          int64\n",
       "dtype: object"
      ]
     },
     "execution_count": 26,
     "metadata": {},
     "output_type": "execute_result"
    }
   ],
   "source": [
    "x_train.dtypes"
   ]
  },
  {
   "cell_type": "code",
   "execution_count": 27,
   "id": "f6af8cfa-85e6-4c33-acb6-4102b3bb2205",
   "metadata": {},
   "outputs": [],
   "source": [
    "num_columns = list(x_train.select_dtypes(include=['int', 'float']).columns)\n",
    "cat_columns = [i for i in list(x_train.columns) if i not in num_columns]\n",
    "\n",
    "idx_cat_columns = [list(x_train.columns).index(i) for i in cat_columns]"
   ]
  },
  {
   "cell_type": "code",
   "execution_count": 28,
   "id": "93a97ad1-5fbc-4726-bb09-64021bcdc7a0",
   "metadata": {},
   "outputs": [],
   "source": [
    "#SMOTE OVER SAMPLING\n",
    "sm_cat = SMOTENC(random_state=42, categorical_features=idx_cat_columns)\n",
    "x_sm, y_sm = sm_cat.fit_resample(x_train, y_train)"
   ]
  },
  {
   "cell_type": "code",
   "execution_count": 29,
   "id": "dc296152-1608-43e3-9a1b-bfa399d8d210",
   "metadata": {},
   "outputs": [
    {
     "data": {
      "text/plain": [
       "churn_category\n",
       "1    2247\n",
       "0    2247\n",
       "Name: count, dtype: int64"
      ]
     },
     "execution_count": 29,
     "metadata": {},
     "output_type": "execute_result"
    }
   ],
   "source": [
    "# Check Balance of target field\n",
    "y_sm.value_counts()"
   ]
  },
  {
   "cell_type": "code",
   "execution_count": 30,
   "id": "76a2f214-9925-46cf-967f-bbb6bd7bb088",
   "metadata": {},
   "outputs": [
    {
     "name": "stdout",
     "output_type": "stream",
     "text": [
      "['total_quantity', 'total_revenue', 'order_freq']\n",
      "['country_big', 'product_id_big']\n"
     ]
    }
   ],
   "source": [
    "print(num_columns)\n",
    "print(cat_columns)"
   ]
  },
  {
   "cell_type": "markdown",
   "id": "a4fc9a0a-0151-4372-9ea1-8047b9a6fb27",
   "metadata": {},
   "source": [
    "__BALANCE !__"
   ]
  },
  {
   "cell_type": "markdown",
   "id": "3c04ff67-9235-4ca9-b32f-575eb54a90a9",
   "metadata": {},
   "source": [
    "## CHECK INCLUSIVITY"
   ]
  },
  {
   "cell_type": "code",
   "execution_count": 31,
   "id": "6a5a9ef8-9377-4f1e-8913-8fed3fbe5361",
   "metadata": {},
   "outputs": [],
   "source": [
    "df_sm = pd.concat([x_sm,y_sm], axis=1)\n",
    "df_test = pd.concat([x_test,y_test], axis=1)"
   ]
  },
  {
   "cell_type": "code",
   "execution_count": 32,
   "id": "2a792cd2-b8df-43f5-9c57-8821684bf268",
   "metadata": {},
   "outputs": [],
   "source": [
    "def cek_inclusivity(train, test, col_product, col_country) : \n",
    "    train_copy = train.copy()\n",
    "    test_copy = test.copy()\n",
    "    \n",
    "    train_copy['product_country_train'] = train_copy[[col_product,col_country]].agg('-'.join, axis=1)\n",
    "    test_copy['product_country_test'] = test_copy[[col_product,col_country]].agg('-'.join, axis=1)\n",
    "\n",
    "    cek = pd.merge(\n",
    "        train_copy[['product_country_train']].drop_duplicates()\n",
    "        , test_copy[['product_country_test']].drop_duplicates()\n",
    "        , how = 'outer'\n",
    "        , left_on = 'product_country_train'\n",
    "        , right_on = 'product_country_test'\n",
    "        )\n",
    "    cek['category'] = np.where(cek['product_country_train'].isnull(), 'TEST DATA NOT IN TRAIN'\n",
    "                    , np.where(cek['product_country_test'].isnull(), 'TRAIN DATA NOT IN TEST', 'DATA IN TEST & TRAIN'))\n",
    "    cek['n'] = 1\n",
    "\n",
    "    return cek\n",
    "\n",
    "def cek_inclusivity_chart (data) : \n",
    "    cek_agg = data.groupby('category').agg({'n':'sum'}).reset_index()\n",
    "\n",
    "    plt.pie(cek_agg['n'], labels=cek_agg['category'], autopct='%1.1f%%')\n",
    "    plt.show()\n",
    "\n",
    "    return display(cek_agg)\n",
    "\n",
    "## FUNCTION CLEANING DATA TEST\n",
    "def data_test (data_test_raw, col_product, col_country, list_test_not_in_train) : \n",
    "    data_test_raw['product_country'] = data_test_raw[[col_product,col_country]].agg('-'.join, axis=1)\n",
    "\n",
    "    return data_test_raw[~data_test_raw['product_country'].isin(list_test_not_in_train)].drop(columns='product_country')"
   ]
  },
  {
   "cell_type": "code",
   "execution_count": 33,
   "id": "b6c6f020-0084-44be-83cf-9b0d607450b5",
   "metadata": {},
   "outputs": [
    {
     "data": {
      "image/png": "[encoded data removed]",
      "text/plain": [
       "<Figure size 640x480 with 1 Axes>"
      ]
     },
     "metadata": {},
     "output_type": "display_data"
    },
    {
     "data": {
      "text/html": [
       "<div>\n",
       "<style scoped>\n",
       "    .dataframe tbody tr th:only-of-type {\n",
       "        vertical-align: middle;\n",
       "    }\n",
       "\n",
       "    .dataframe tbody tr th {\n",
       "        vertical-align: top;\n",
       "    }\n",
       "\n",
       "    .dataframe thead th {\n",
       "        text-align: right;\n",
       "    }\n",
       "</style>\n",
       "<table border=\"1\" class=\"dataframe\">\n",
       "  <thead>\n",
       "    <tr style=\"text-align: right;\">\n",
       "      <th></th>\n",
       "      <th>category</th>\n",
       "      <th>n</th>\n",
       "    </tr>\n",
       "  </thead>\n",
       "  <tbody>\n",
       "    <tr>\n",
       "      <th>0</th>\n",
       "      <td>DATA IN TEST &amp; TRAIN</td>\n",
       "      <td>275</td>\n",
       "    </tr>\n",
       "    <tr>\n",
       "      <th>1</th>\n",
       "      <td>TEST DATA NOT IN TRAIN</td>\n",
       "      <td>167</td>\n",
       "    </tr>\n",
       "    <tr>\n",
       "      <th>2</th>\n",
       "      <td>TRAIN DATA NOT IN TEST</td>\n",
       "      <td>862</td>\n",
       "    </tr>\n",
       "  </tbody>\n",
       "</table>\n",
       "</div>"
      ],
      "text/plain": [
       "                 category    n\n",
       "0    DATA IN TEST & TRAIN  275\n",
       "1  TEST DATA NOT IN TRAIN  167\n",
       "2  TRAIN DATA NOT IN TEST  862"
      ]
     },
     "metadata": {},
     "output_type": "display_data"
    }
   ],
   "source": [
    "cek_inclusivity_chart(cek_inclusivity(df_sm, df_test, 'product_id_big', 'country_big'))"
   ]
  },
  {
   "cell_type": "code",
   "execution_count": 34,
   "id": "27794118-2cd3-4607-b987-4b1aa973f688",
   "metadata": {},
   "outputs": [
    {
     "data": {
      "text/plain": [
       "(851, 6)"
      ]
     },
     "execution_count": 34,
     "metadata": {},
     "output_type": "execute_result"
    }
   ],
   "source": [
    "df_test.shape"
   ]
  },
  {
   "cell_type": "code",
   "execution_count": 35,
   "id": "efd6817c-8876-4e27-a344-f849c772ef14",
   "metadata": {},
   "outputs": [],
   "source": [
    "cek = cek_inclusivity(df_sm, df_test, 'product_id_big', 'country_big')\n",
    "list_data_test_not_in_train = list(cek[cek['category']=='TEST DATA NOT IN TRAIN']['product_country_test'])\n",
    "\n",
    "data_test_std = data_test(df_test, 'product_id_big', 'country_big', list_data_test_not_in_train)\n",
    "x_test_std = data_test_std.drop(columns='churn_category')\n",
    "y_test_std = data_test_std['churn_category']"
   ]
  },
  {
   "cell_type": "markdown",
   "id": "92045e4d-2ccf-486c-89fe-03597457dfb1",
   "metadata": {},
   "source": [
    "## CREATE PIPELINE MODEL FUNCTION"
   ]
  },
  {
   "cell_type": "markdown",
   "id": "a68f2d5a-e9d7-4ce7-a260-b9fad3a6354a",
   "metadata": {},
   "source": [
    "1. Numerical columns : use robust scaller\n",
    "2. Categorical columsn : use one hot encoder (except for XGBoost model, use params\n",
    "\n",
    "__XGB__ : "
   ]
  },
  {
   "cell_type": "code",
   "execution_count": 36,
   "id": "410ff8aa-6ca0-4d0c-8e2c-333df9cd68b3",
   "metadata": {},
   "outputs": [],
   "source": [
    "numeric_pipeline = Pipeline([\n",
    "    ('scaler', RobustScaler())\n",
    "    # ('preprocessor', PolynomialFeatures(degree=2, include_bias=False))\n",
    "])\n",
    "\n",
    "categoric_pipeline = Pipeline([\n",
    "    ('encoder', OneHotEncoder())\n",
    "])\n",
    "\n",
    "preprocessor_numeric = ColumnTransformer([\n",
    "    ('numeric', numeric_pipeline, num_columns)\n",
    "])\n",
    "\n",
    "preprocessor_all = ColumnTransformer([\n",
    "    ('numeric', numeric_pipeline, num_columns),\n",
    "    ('categorical', categoric_pipeline, cat_columns)\n",
    "])\n",
    "\n",
    "pipe_LR = Pipeline([\n",
    "    ('prep', preprocessor_all),\n",
    "    ('algo', LogisticRegression(max_iter=1100))\n",
    "])\n",
    "\n",
    "pipe_XGB = Pipeline([\n",
    "    ('prep', preprocessor_numeric),\n",
    "    ('algo', XGBClassifier(\n",
    "        enable_categorical=True\n",
    "        , learning_rate=0.5\n",
    "        , objective='binary:logistic'\n",
    "    ))\n",
    "])\n",
    "\n",
    "pipe_DT = Pipeline([\n",
    "    ('prep', preprocessor_all),\n",
    "    ('algo', DecisionTreeClassifier(random_state=42))\n",
    "])"
   ]
  },
  {
   "cell_type": "markdown",
   "id": "c77391e9-dc94-4d20-b1f0-e80949c1d43c",
   "metadata": {},
   "source": [
    "## CREATE FUNCTION EVALUATION MATRIX FOR MODELS"
   ]
  },
  {
   "cell_type": "code",
   "execution_count": 37,
   "id": "1a911cc0-7288-4adc-91ea-bf148e74b4a9",
   "metadata": {},
   "outputs": [],
   "source": [
    "# def function for each model evaluation matrix\n",
    "\n",
    "def conf_mat (Model, X_train, X_test, y_train, y_test,Nama):\n",
    "    y_pred_test = Model.predict(X_test)\n",
    "    cm_test = confusion_matrix(y_test, y_pred_test, labels=[1,0])\n",
    "    df_test = pd.DataFrame(cm_test, index = ['Akt1', 'Akt0'], columns=['Pred1', 'Pred0'])\n",
    "    print( 'Classification report data TEST ' + Nama + '\\n\\n', classification_report(y_test, y_pred_test))\n",
    "    print('\\nConfusion matrix data test ' + Nama + '\\n\\n')\n",
    "    print(df_test)\n",
    "    print('='*100)\n",
    "    y_pred_train = Model.predict(X_train)\n",
    "    cm_train = confusion_matrix(y_train, y_pred_train, labels=[1,0])\n",
    "    df_train = pd.DataFrame(cm_train, index = ['Akt1', 'Akt0'], columns=['Pred1', 'Pred0'])\n",
    "    print( 'Classification report data TRAIN ' + Nama + '\\n\\n', classification_report(y_train, y_pred_train))\n",
    "    print('\\nConfusion matrix data train ' + Nama + '\\n\\n')\n",
    "    print(df_train)"
   ]
  },
  {
   "cell_type": "code",
   "execution_count": 38,
   "id": "cf337b3f-38b7-4e7d-b15a-a8c97f4bb1bf",
   "metadata": {},
   "outputs": [],
   "source": [
    "# def function to compare the evaluation matrix for some models\n",
    "\n",
    "def prec_rec (Model, X_test, y_test, Nama):\n",
    "    data = {}\n",
    "    prec = []\n",
    "    rec = []\n",
    "    acc = []\n",
    "    for i in Model :\n",
    "        y_pred_ts = i.predict(X_test)\n",
    "        precision = precision_score(y_test, y_pred_ts, average=\"macro\")\n",
    "        recall = recall_score(y_test, y_pred_ts, average=\"macro\")\n",
    "        accuracy = accuracy_score(y_test, y_pred_ts)\n",
    "        prec.append(precision)\n",
    "        rec.append(recall)\n",
    "        acc.append(accuracy)\n",
    "    for j in range (len(Nama)):\n",
    "        data[Nama[j]] = [prec[j], rec[j], acc[j]]\n",
    "\n",
    "    df = pd.DataFrame(data, index=['Precison', 'Recall', 'Accuracy'])\n",
    "    return df"
   ]
  },
  {
   "cell_type": "markdown",
   "id": "6c605b81-df50-48de-9286-643fc0238b34",
   "metadata": {},
   "source": [
    "## START MODELLING"
   ]
  },
  {
   "cell_type": "markdown",
   "id": "37f964e8-4e2f-4ef0-84a9-fc867c8ccca2",
   "metadata": {},
   "source": [
    "### XGB"
   ]
  },
  {
   "cell_type": "markdown",
   "id": "1f3df2cc-67f8-4441-a2ff-6b04fc3accc8",
   "metadata": {},
   "source": [
    "- "
   ]
  },
  {
   "cell_type": "code",
   "execution_count": 39,
   "id": "abf39983-54b8-4f26-857d-e5794c5d569a",
   "metadata": {},
   "outputs": [],
   "source": [
    "model_XGB = pipe_XGB.fit(x_sm, y_sm)"
   ]
  },
  {
   "cell_type": "code",
   "execution_count": 40,
   "id": "11874f35-c910-4de2-82ba-acf63f488af5",
   "metadata": {},
   "outputs": [
    {
     "name": "stdout",
     "output_type": "stream",
     "text": [
      "Classification report data TEST XGB Base\n",
      "\n",
      "               precision    recall  f1-score   support\n",
      "\n",
      "           0       0.51      0.52      0.51       289\n",
      "           1       0.75      0.75      0.75       562\n",
      "\n",
      "    accuracy                           0.67       851\n",
      "   macro avg       0.63      0.63      0.63       851\n",
      "weighted avg       0.67      0.67      0.67       851\n",
      "\n",
      "\n",
      "Confusion matrix data test XGB Base\n",
      "\n",
      "\n",
      "      Pred1  Pred0\n",
      "Akt1    421    141\n",
      "Akt0    140    149\n",
      "====================================================================================================\n",
      "Classification report data TRAIN XGB Base\n",
      "\n",
      "               precision    recall  f1-score   support\n",
      "\n",
      "           0       0.94      0.88      0.91      2247\n",
      "           1       0.88      0.94      0.91      2247\n",
      "\n",
      "    accuracy                           0.91      4494\n",
      "   macro avg       0.91      0.91      0.91      4494\n",
      "weighted avg       0.91      0.91      0.91      4494\n",
      "\n",
      "\n",
      "Confusion matrix data train XGB Base\n",
      "\n",
      "\n",
      "      Pred1  Pred0\n",
      "Akt1   2118    129\n",
      "Akt0    278   1969\n"
     ]
    }
   ],
   "source": [
    "# evaluation matrix XGB\n",
    "conf_mat(model_XGB, x_sm, x_test, y_sm, y_test, 'XGB Base')"
   ]
  },
  {
   "cell_type": "code",
   "execution_count": null,
   "id": "cc70aafa-6422-4819-a533-89457bae86e1",
   "metadata": {},
   "outputs": [],
   "source": []
  },
  {
   "cell_type": "code",
   "execution_count": null,
   "id": "7188230a-e623-4196-9d77-6cfa30d66a26",
   "metadata": {},
   "outputs": [],
   "source": []
  },
  {
   "cell_type": "markdown",
   "id": "32b9b71b-efb9-498a-b7db-ad8c334fca80",
   "metadata": {},
   "source": [
    "### Logistic Regression"
   ]
  },
  {
   "cell_type": "markdown",
   "id": "5057c568-f79f-458f-b869-3d0f389b71fb",
   "metadata": {},
   "source": [
    "Data test use the standarize (combination product & country is in train data)"
   ]
  },
  {
   "cell_type": "code",
   "execution_count": 41,
   "id": "ee08e0c2-cd27-4003-b59b-52bd0742a211",
   "metadata": {},
   "outputs": [],
   "source": [
    "model_LR = pipe_LR.fit(x_sm, y_sm)"
   ]
  },
  {
   "cell_type": "code",
   "execution_count": 42,
   "id": "ded42c23-fc44-4960-bd35-96dba4599c2e",
   "metadata": {},
   "outputs": [
    {
     "name": "stdout",
     "output_type": "stream",
     "text": [
      "Classification report data TEST LR Base\n",
      "\n",
      "               precision    recall  f1-score   support\n",
      "\n",
      "           0       0.53      0.50      0.51       228\n",
      "           1       0.75      0.77      0.76       444\n",
      "\n",
      "    accuracy                           0.68       672\n",
      "   macro avg       0.64      0.64      0.64       672\n",
      "weighted avg       0.67      0.68      0.68       672\n",
      "\n",
      "\n",
      "Confusion matrix data test LR Base\n",
      "\n",
      "\n",
      "      Pred1  Pred0\n",
      "Akt1    342    102\n",
      "Akt0    114    114\n",
      "====================================================================================================\n",
      "Classification report data TRAIN LR Base\n",
      "\n",
      "               precision    recall  f1-score   support\n",
      "\n",
      "           0       0.81      0.70      0.75      2247\n",
      "           1       0.74      0.83      0.78      2247\n",
      "\n",
      "    accuracy                           0.77      4494\n",
      "   macro avg       0.77      0.77      0.77      4494\n",
      "weighted avg       0.77      0.77      0.77      4494\n",
      "\n",
      "\n",
      "Confusion matrix data train LR Base\n",
      "\n",
      "\n",
      "      Pred1  Pred0\n",
      "Akt1   1868    379\n",
      "Akt0    667   1580\n"
     ]
    }
   ],
   "source": [
    "# evaluation matrix LR\n",
    "conf_mat(model_LR, x_sm, x_test_std, y_sm, y_test_std, 'LR Base')"
   ]
  },
  {
   "cell_type": "markdown",
   "id": "75d28319-a6bc-495b-8128-e2533c8e6f18",
   "metadata": {},
   "source": [
    "### Decision Tree"
   ]
  },
  {
   "cell_type": "code",
   "execution_count": 43,
   "id": "11219c83-2e05-493e-8fc0-d90c85258bef",
   "metadata": {},
   "outputs": [],
   "source": [
    "model_DT = pipe_DT.fit(x_sm, y_sm)"
   ]
  },
  {
   "cell_type": "code",
   "execution_count": 44,
   "id": "6e139332-5543-44b4-8fd2-b5a3a9bc1421",
   "metadata": {},
   "outputs": [
    {
     "name": "stdout",
     "output_type": "stream",
     "text": [
      "Classification report data TEST DT Base\n",
      "\n",
      "               precision    recall  f1-score   support\n",
      "\n",
      "           0       0.50      0.54      0.52       228\n",
      "           1       0.75      0.72      0.74       444\n",
      "\n",
      "    accuracy                           0.66       672\n",
      "   macro avg       0.63      0.63      0.63       672\n",
      "weighted avg       0.67      0.66      0.66       672\n",
      "\n",
      "\n",
      "Confusion matrix data test DT Base\n",
      "\n",
      "\n",
      "      Pred1  Pred0\n",
      "Akt1    320    124\n",
      "Akt0    104    124\n",
      "====================================================================================================\n",
      "Classification report data TRAIN DT Base\n",
      "\n",
      "               precision    recall  f1-score   support\n",
      "\n",
      "           0       1.00      1.00      1.00      2247\n",
      "           1       1.00      1.00      1.00      2247\n",
      "\n",
      "    accuracy                           1.00      4494\n",
      "   macro avg       1.00      1.00      1.00      4494\n",
      "weighted avg       1.00      1.00      1.00      4494\n",
      "\n",
      "\n",
      "Confusion matrix data train DT Base\n",
      "\n",
      "\n",
      "      Pred1  Pred0\n",
      "Akt1   2247      0\n",
      "Akt0      0   2247\n"
     ]
    }
   ],
   "source": [
    "# evaluation matrix DT\n",
    "conf_mat(model_DT, x_sm, x_test_std, y_sm, y_test_std, 'DT Base')"
   ]
  },
  {
   "cell_type": "markdown",
   "id": "b9158789-2c99-47c2-85b4-92205117f026",
   "metadata": {},
   "source": [
    "## CONCLUSION MODEL"
   ]
  },
  {
   "cell_type": "markdown",
   "id": "02d8dad1-b8a2-4b8f-93df-e273879961b0",
   "metadata": {},
   "source": [
    "- XGBoost, Logistic Regression & Decision Tree relatively have same Precision = 0.75, but the True Positive of XGBoost significantly higher (421 customers)\n",
    "- XGBoost Model is better than other model to predict Churn Customer\n",
    "- Also XGBoost can predict customers that have product & country that not in train data, not like Logistic Regression & DT that should exclude those data from data test\n",
    "Chose XGBoost\n"
   ]
  },
  {
   "cell_type": "markdown",
   "id": "e47d58ab-d25d-40ba-8b9d-032b0334af65",
   "metadata": {},
   "source": [
    "## FEATURE IMPORTANCE"
   ]
  },
  {
   "cell_type": "code",
   "execution_count": 45,
   "id": "c19aff99-7e7e-4347-86fe-f98bc7d90569",
   "metadata": {},
   "outputs": [
    {
     "data": {
      "image/png": "[encoded data removed]",
      "text/plain": [
       "<Figure size 640x480 with 1 Axes>"
      ]
     },
     "metadata": {},
     "output_type": "display_data"
    }
   ],
   "source": [
    "pd.DataFrame(\n",
    "        data=model_XGB['algo'].feature_importances_\n",
    "        , index=model_XGB[:-1].get_feature_names_out()\n",
    "        , columns=['importance']\n",
    ").sort_values('importance').plot(kind='barh', title='Feature Importance')\n",
    "plt.show()"
   ]
  },
  {
   "cell_type": "code",
   "execution_count": 46,
   "id": "c265b989-6c9f-4fe3-9917-4512f56badb4",
   "metadata": {},
   "outputs": [
    {
     "name": "stdout",
     "output_type": "stream",
     "text": [
      "MIN : 2\n",
      "MAX : 203\n",
      "MEDIAN : 4.0\n",
      "MEAN : 7.554641598119859\n"
     ]
    },
    {
     "data": {
      "image/png": "[encoded data removed]",
      "text/plain": [
       "<Figure size 640x480 with 1 Axes>"
      ]
     },
     "metadata": {},
     "output_type": "display_data"
    }
   ],
   "source": [
    "print('MIN : {}'.format(x_test['order_freq'].min()))\n",
    "print('MAX : {}'.format(x_test['order_freq'].max()))\n",
    "print('MEDIAN : {}'.format(x_test['order_freq'].median()))\n",
    "print('MEAN : {}'.format(x_test['order_freq'].mean()))\n",
    "\n",
    "plt.hist(x_test['order_freq'])\n",
    "plt.show()"
   ]
  },
  {
   "cell_type": "markdown",
   "id": "d15782d5-908b-4337-ba14-942dbf47db2c",
   "metadata": {},
   "source": [
    "## PREDICT WITH ALL DATA"
   ]
  },
  {
   "cell_type": "code",
   "execution_count": 47,
   "id": "77dc0136-dbb1-4cfa-b8ca-9fa065207110",
   "metadata": {},
   "outputs": [
    {
     "data": {
      "text/html": [
       "<div>\n",
       "<style scoped>\n",
       "    .dataframe tbody tr th:only-of-type {\n",
       "        vertical-align: middle;\n",
       "    }\n",
       "\n",
       "    .dataframe tbody tr th {\n",
       "        vertical-align: top;\n",
       "    }\n",
       "\n",
       "    .dataframe thead th {\n",
       "        text-align: right;\n",
       "    }\n",
       "</style>\n",
       "<table border=\"1\" class=\"dataframe\">\n",
       "  <thead>\n",
       "    <tr style=\"text-align: right;\">\n",
       "      <th></th>\n",
       "      <th>country_big</th>\n",
       "      <th>product_id_big</th>\n",
       "      <th>churn_category</th>\n",
       "      <th>total_quantity</th>\n",
       "      <th>total_revenue</th>\n",
       "      <th>order_freq</th>\n",
       "    </tr>\n",
       "  </thead>\n",
       "  <tbody>\n",
       "    <tr>\n",
       "      <th>0</th>\n",
       "      <td>United Kingdom</td>\n",
       "      <td>23166</td>\n",
       "      <td>0</td>\n",
       "      <td>74285</td>\n",
       "      <td>77556.46</td>\n",
       "      <td>12</td>\n",
       "    </tr>\n",
       "    <tr>\n",
       "      <th>1</th>\n",
       "      <td>Iceland</td>\n",
       "      <td>23076</td>\n",
       "      <td>1</td>\n",
       "      <td>3286</td>\n",
       "      <td>5633.32</td>\n",
       "      <td>8</td>\n",
       "    </tr>\n",
       "    <tr>\n",
       "      <th>2</th>\n",
       "      <td>Finland</td>\n",
       "      <td>23077</td>\n",
       "      <td>1</td>\n",
       "      <td>2714</td>\n",
       "      <td>2019.40</td>\n",
       "      <td>5</td>\n",
       "    </tr>\n",
       "    <tr>\n",
       "      <th>3</th>\n",
       "      <td>Italy</td>\n",
       "      <td>21232</td>\n",
       "      <td>1</td>\n",
       "      <td>1624</td>\n",
       "      <td>4428.69</td>\n",
       "      <td>4</td>\n",
       "    </tr>\n",
       "    <tr>\n",
       "      <th>6</th>\n",
       "      <td>Norway</td>\n",
       "      <td>84050</td>\n",
       "      <td>0</td>\n",
       "      <td>724</td>\n",
       "      <td>2849.84</td>\n",
       "      <td>10</td>\n",
       "    </tr>\n",
       "  </tbody>\n",
       "</table>\n",
       "</div>"
      ],
      "text/plain": [
       "      country_big product_id_big  churn_category  total_quantity  \\\n",
       "0  United Kingdom          23166               0           74285   \n",
       "1         Iceland          23076               1            3286   \n",
       "2         Finland          23077               1            2714   \n",
       "3           Italy          21232               1            1624   \n",
       "6          Norway          84050               0             724   \n",
       "\n",
       "   total_revenue  order_freq  \n",
       "0       77556.46          12  \n",
       "1        5633.32           8  \n",
       "2        2019.40           5  \n",
       "3        4428.69           4  \n",
       "6        2849.84          10  "
      ]
     },
     "execution_count": 47,
     "metadata": {},
     "output_type": "execute_result"
    }
   ],
   "source": [
    "df_model.head()"
   ]
  },
  {
   "cell_type": "code",
   "execution_count": 48,
   "id": "1b48679d-9aca-4e13-8199-75147d5c40da",
   "metadata": {},
   "outputs": [
    {
     "name": "stderr",
     "output_type": "stream",
     "text": [
      "/var/folders/hp/5n1_35ms0ygbmmvvvm6mq_3w0000gn/T/ipykernel_1503/19040818.py:2: SettingWithCopyWarning: \n",
      "A value is trying to be set on a copy of a slice from a DataFrame.\n",
      "Try using .loc[row_indexer,col_indexer] = value instead\n",
      "\n",
      "See the caveats in the documentation: https://pandas.pydata.org/pandas-docs/stable/user_guide/indexing.html#returning-a-view-versus-a-copy\n",
      "  df_predict['churn_category'] = np.where(df_predict['churn_category'] == 'Non Churn Customer', 0, 1)\n",
      "/var/folders/hp/5n1_35ms0ygbmmvvvm6mq_3w0000gn/T/ipykernel_1503/19040818.py:3: SettingWithCopyWarning: \n",
      "A value is trying to be set on a copy of a slice from a DataFrame.\n",
      "Try using .loc[row_indexer,col_indexer] = value instead\n",
      "\n",
      "See the caveats in the documentation: https://pandas.pydata.org/pandas-docs/stable/user_guide/indexing.html#returning-a-view-versus-a-copy\n",
      "  df_predict['churn_prediction'] = model_XGB.predict(df_predict.drop(columns=['churn_category', 'customer_id']))\n"
     ]
    },
    {
     "data": {
      "text/html": [
       "<div>\n",
       "<style scoped>\n",
       "    .dataframe tbody tr th:only-of-type {\n",
       "        vertical-align: middle;\n",
       "    }\n",
       "\n",
       "    .dataframe tbody tr th {\n",
       "        vertical-align: top;\n",
       "    }\n",
       "\n",
       "    .dataframe thead th {\n",
       "        text-align: right;\n",
       "    }\n",
       "</style>\n",
       "<table border=\"1\" class=\"dataframe\">\n",
       "  <thead>\n",
       "    <tr style=\"text-align: right;\">\n",
       "      <th></th>\n",
       "      <th>customer_id</th>\n",
       "      <th>country_big</th>\n",
       "      <th>product_id_big</th>\n",
       "      <th>churn_actual</th>\n",
       "      <th>total_quantity</th>\n",
       "      <th>total_revenue</th>\n",
       "      <th>order_freq</th>\n",
       "      <th>churn_prediction</th>\n",
       "    </tr>\n",
       "  </thead>\n",
       "  <tbody>\n",
       "    <tr>\n",
       "      <th>0</th>\n",
       "      <td>12346.0</td>\n",
       "      <td>United Kingdom</td>\n",
       "      <td>23166</td>\n",
       "      <td>0</td>\n",
       "      <td>74285</td>\n",
       "      <td>77556.46</td>\n",
       "      <td>12</td>\n",
       "      <td>0</td>\n",
       "    </tr>\n",
       "    <tr>\n",
       "      <th>1</th>\n",
       "      <td>12347.0</td>\n",
       "      <td>Iceland</td>\n",
       "      <td>23076</td>\n",
       "      <td>1</td>\n",
       "      <td>3286</td>\n",
       "      <td>5633.32</td>\n",
       "      <td>8</td>\n",
       "      <td>1</td>\n",
       "    </tr>\n",
       "    <tr>\n",
       "      <th>2</th>\n",
       "      <td>12348.0</td>\n",
       "      <td>Finland</td>\n",
       "      <td>23077</td>\n",
       "      <td>1</td>\n",
       "      <td>2714</td>\n",
       "      <td>2019.40</td>\n",
       "      <td>5</td>\n",
       "      <td>1</td>\n",
       "    </tr>\n",
       "    <tr>\n",
       "      <th>3</th>\n",
       "      <td>12349.0</td>\n",
       "      <td>Italy</td>\n",
       "      <td>21232</td>\n",
       "      <td>1</td>\n",
       "      <td>1624</td>\n",
       "      <td>4428.69</td>\n",
       "      <td>4</td>\n",
       "      <td>1</td>\n",
       "    </tr>\n",
       "    <tr>\n",
       "      <th>6</th>\n",
       "      <td>12352.0</td>\n",
       "      <td>Norway</td>\n",
       "      <td>84050</td>\n",
       "      <td>0</td>\n",
       "      <td>724</td>\n",
       "      <td>2849.84</td>\n",
       "      <td>10</td>\n",
       "      <td>0</td>\n",
       "    </tr>\n",
       "  </tbody>\n",
       "</table>\n",
       "</div>"
      ],
      "text/plain": [
       "  customer_id     country_big product_id_big  churn_actual  total_quantity  \\\n",
       "0     12346.0  United Kingdom          23166             0           74285   \n",
       "1     12347.0         Iceland          23076             1            3286   \n",
       "2     12348.0         Finland          23077             1            2714   \n",
       "3     12349.0           Italy          21232             1            1624   \n",
       "6     12352.0          Norway          84050             0             724   \n",
       "\n",
       "   total_revenue  order_freq  churn_prediction  \n",
       "0       77556.46          12                 0  \n",
       "1        5633.32           8                 1  \n",
       "2        2019.40           5                 1  \n",
       "3        4428.69           4                 1  \n",
       "6        2849.84          10                 0  "
      ]
     },
     "execution_count": 48,
     "metadata": {},
     "output_type": "execute_result"
    }
   ],
   "source": [
    "df_predict = df_cust_churn[df_cust_churn['churn_category']!= 'One Time Order']\n",
    "df_predict['churn_category'] = np.where(df_predict['churn_category'] == 'Non Churn Customer', 0, 1)\n",
    "df_predict['churn_prediction'] = model_XGB.predict(df_predict.drop(columns=['churn_category', 'customer_id']))\n",
    "df_predict = df_predict.rename(columns={'churn_category':'churn_actual'})\n",
    "\n",
    "df_predict.head()"
   ]
  },
  {
   "cell_type": "code",
   "execution_count": 49,
   "id": "fd6069e8-01d0-40a2-b52e-db6d323cad87",
   "metadata": {},
   "outputs": [
    {
     "data": {
      "image/png": "[encoded data removed]",
      "text/plain": [
       "<Figure size 640x480 with 2 Axes>"
      ]
     },
     "metadata": {},
     "output_type": "display_data"
    }
   ],
   "source": [
    "df_conf_matrix = df_predict.groupby(['churn_actual', 'churn_prediction']).count()[['order_freq']].reset_index().rename(columns={'order_freq':'n_cust'})\n",
    "df_conf_matrix = df_conf_matrix.sort_values(['churn_actual', 'churn_prediction'], ascending=False)\n",
    "\n",
    "sns.heatmap(\n",
    "        df_conf_matrix.pivot(index='churn_actual', columns='churn_prediction', values='n_cust')\n",
    "        ,annot=True, cmap='YlGnBu', fmt='g'\n",
    ")\n",
    "\n",
    "plt.show()"
   ]
  },
  {
   "cell_type": "markdown",
   "id": "196404a4-8e53-476d-8120-2159a15fc112",
   "metadata": {},
   "source": [
    "## STRATEGY RECOMMENDATION"
   ]
  },
  {
   "cell_type": "code",
   "execution_count": 50,
   "id": "6d8aa3fb-d380-4003-a80f-c89f3e48d7c6",
   "metadata": {},
   "outputs": [
    {
     "name": "stdout",
     "output_type": "stream",
     "text": [
      "MIN : 2\n",
      "MAX : 15\n",
      "MEDIAN : 4.0\n",
      "MEAN : 5.0247000705716305\n"
     ]
    },
    {
     "data": {
      "image/png": "[encoded data removed]",
      "text/plain": [
       "<Figure size 640x480 with 1 Axes>"
      ]
     },
     "metadata": {},
     "output_type": "display_data"
    }
   ],
   "source": [
    "df_churn_pred = df_predict[df_predict['churn_prediction']==1]\n",
    "\n",
    "print('MIN : {}'.format(df_churn_pred['order_freq'].min()))\n",
    "print('MAX : {}'.format(df_churn_pred['order_freq'].max()))\n",
    "print('MEDIAN : {}'.format(df_churn_pred['order_freq'].median()))\n",
    "print('MEAN : {}'.format(df_churn_pred['order_freq'].mean()))\n",
    "plt.hist(df_churn_pred['order_freq'])\n",
    "plt.show()"
   ]
  },
  {
   "cell_type": "code",
   "execution_count": 51,
   "id": "8885747d-ed7f-4fee-b495-11463bf76f41",
   "metadata": {},
   "outputs": [],
   "source": [
    "df_churn_pred = pd.merge(\n",
    "    pd.merge(df_churn_pred, df_cust_p_freq[['customer_id', 'product_id_high_freq']], how='left', on='customer_id')\n",
    "    , df_cust_c_freq[['customer_id', 'country_high_freq']]\n",
    "    , how='left'\n",
    "    , on='customer_id'\n",
    ")\n",
    "\n",
    "df_churn_pred['campaign_urgency'] = np.where(df_churn_pred['order_freq'] >= 4, 'urgent', 'not urgent')"
   ]
  },
  {
   "cell_type": "code",
   "execution_count": 52,
   "id": "eb6b3cfa-629a-4aed-b8ee-4b708d62166f",
   "metadata": {},
   "outputs": [
    {
     "data": {
      "text/html": [
       "<div>\n",
       "<style scoped>\n",
       "    .dataframe tbody tr th:only-of-type {\n",
       "        vertical-align: middle;\n",
       "    }\n",
       "\n",
       "    .dataframe tbody tr th {\n",
       "        vertical-align: top;\n",
       "    }\n",
       "\n",
       "    .dataframe thead th {\n",
       "        text-align: right;\n",
       "    }\n",
       "</style>\n",
       "<table border=\"1\" class=\"dataframe\">\n",
       "  <thead>\n",
       "    <tr style=\"text-align: right;\">\n",
       "      <th></th>\n",
       "      <th>n_customer</th>\n",
       "    </tr>\n",
       "    <tr>\n",
       "      <th>campaign_urgency</th>\n",
       "      <th></th>\n",
       "    </tr>\n",
       "  </thead>\n",
       "  <tbody>\n",
       "    <tr>\n",
       "      <th>urgent</th>\n",
       "      <td>1670</td>\n",
       "    </tr>\n",
       "    <tr>\n",
       "      <th>not urgent</th>\n",
       "      <td>1164</td>\n",
       "    </tr>\n",
       "  </tbody>\n",
       "</table>\n",
       "</div>"
      ],
      "text/plain": [
       "                  n_customer\n",
       "campaign_urgency            \n",
       "urgent                  1670\n",
       "not urgent              1164"
      ]
     },
     "execution_count": 52,
     "metadata": {},
     "output_type": "execute_result"
    }
   ],
   "source": [
    "df_churn_pred.groupby(['campaign_urgency']).agg({'customer_id': 'nunique'}).rename(columns={'customer_id':'n_customer'}).sort_values('n_customer', ascending=False)"
   ]
  },
  {
   "cell_type": "code",
   "execution_count": 53,
   "id": "2c968277-b78d-4aba-9824-de5285c9a1b1",
   "metadata": {},
   "outputs": [
    {
     "data": {
      "text/html": [
       "<div>\n",
       "<style scoped>\n",
       "    .dataframe tbody tr th:only-of-type {\n",
       "        vertical-align: middle;\n",
       "    }\n",
       "\n",
       "    .dataframe tbody tr th {\n",
       "        vertical-align: top;\n",
       "    }\n",
       "\n",
       "    .dataframe thead th {\n",
       "        text-align: right;\n",
       "    }\n",
       "</style>\n",
       "<table border=\"1\" class=\"dataframe\">\n",
       "  <thead>\n",
       "    <tr style=\"text-align: right;\">\n",
       "      <th></th>\n",
       "      <th>campaign_urgency</th>\n",
       "      <th>product_id_high_freq</th>\n",
       "      <th>n_customer</th>\n",
       "      <th>customer_id</th>\n",
       "    </tr>\n",
       "  </thead>\n",
       "  <tbody>\n",
       "    <tr>\n",
       "      <th>0</th>\n",
       "      <td>urgent</td>\n",
       "      <td>85123A</td>\n",
       "      <td>109</td>\n",
       "      <td>15774.0, 14942.0, 14047.0, 14173.0, 17827.0, 1...</td>\n",
       "    </tr>\n",
       "    <tr>\n",
       "      <th>1</th>\n",
       "      <td>urgent</td>\n",
       "      <td>POST</td>\n",
       "      <td>84</td>\n",
       "      <td>12449.0, 12664.0, 12728.0, 12421.0, 12670.0, 1...</td>\n",
       "    </tr>\n",
       "    <tr>\n",
       "      <th>2</th>\n",
       "      <td>urgent</td>\n",
       "      <td>22423</td>\n",
       "      <td>46</td>\n",
       "      <td>16621.0, 14463.0, 14626.0, 14853.0, 12502.0, 1...</td>\n",
       "    </tr>\n",
       "    <tr>\n",
       "      <th>3</th>\n",
       "      <td>urgent</td>\n",
       "      <td>84879</td>\n",
       "      <td>44</td>\n",
       "      <td>17508.0, 13555.0, 14342.0, 15365.0, 13705.0, 1...</td>\n",
       "    </tr>\n",
       "    <tr>\n",
       "      <th>4</th>\n",
       "      <td>urgent</td>\n",
       "      <td>85099B</td>\n",
       "      <td>39</td>\n",
       "      <td>17702.0, 12413.0, 12990.0, 15032.0, 13931.0, 1...</td>\n",
       "    </tr>\n",
       "    <tr>\n",
       "      <th>5</th>\n",
       "      <td>not urgent</td>\n",
       "      <td>85123A</td>\n",
       "      <td>37</td>\n",
       "      <td>14876.0, 12821.0, 14423.0, 13809.0, 13161.0, 1...</td>\n",
       "    </tr>\n",
       "    <tr>\n",
       "      <th>6</th>\n",
       "      <td>not urgent</td>\n",
       "      <td>POST</td>\n",
       "      <td>35</td>\n",
       "      <td>12572.0, 12394.0, 12465.0, 12403.0, 12741.0, 1...</td>\n",
       "    </tr>\n",
       "    <tr>\n",
       "      <th>7</th>\n",
       "      <td>urgent</td>\n",
       "      <td>21034</td>\n",
       "      <td>31</td>\n",
       "      <td>16515.0, 16221.0, 16049.0, 16933.0, 15863.0, 1...</td>\n",
       "    </tr>\n",
       "    <tr>\n",
       "      <th>8</th>\n",
       "      <td>urgent</td>\n",
       "      <td>21232</td>\n",
       "      <td>19</td>\n",
       "      <td>17165.0, 14656.0, 16560.0, 17076.0, 13126.0, 1...</td>\n",
       "    </tr>\n",
       "    <tr>\n",
       "      <th>9</th>\n",
       "      <td>urgent</td>\n",
       "      <td>22086</td>\n",
       "      <td>18</td>\n",
       "      <td>14585.0, 13211.0, 17481.0, 13758.0, 17621.0, 1...</td>\n",
       "    </tr>\n",
       "  </tbody>\n",
       "</table>\n",
       "</div>"
      ],
      "text/plain": [
       "  campaign_urgency product_id_high_freq  n_customer  \\\n",
       "0           urgent               85123A         109   \n",
       "1           urgent                 POST          84   \n",
       "2           urgent                22423          46   \n",
       "3           urgent                84879          44   \n",
       "4           urgent               85099B          39   \n",
       "5       not urgent               85123A          37   \n",
       "6       not urgent                 POST          35   \n",
       "7           urgent                21034          31   \n",
       "8           urgent                21232          19   \n",
       "9           urgent                22086          18   \n",
       "\n",
       "                                         customer_id  \n",
       "0  15774.0, 14942.0, 14047.0, 14173.0, 17827.0, 1...  \n",
       "1  12449.0, 12664.0, 12728.0, 12421.0, 12670.0, 1...  \n",
       "2  16621.0, 14463.0, 14626.0, 14853.0, 12502.0, 1...  \n",
       "3  17508.0, 13555.0, 14342.0, 15365.0, 13705.0, 1...  \n",
       "4  17702.0, 12413.0, 12990.0, 15032.0, 13931.0, 1...  \n",
       "5  14876.0, 12821.0, 14423.0, 13809.0, 13161.0, 1...  \n",
       "6  12572.0, 12394.0, 12465.0, 12403.0, 12741.0, 1...  \n",
       "7  16515.0, 16221.0, 16049.0, 16933.0, 15863.0, 1...  \n",
       "8  17165.0, 14656.0, 16560.0, 17076.0, 13126.0, 1...  \n",
       "9  14585.0, 13211.0, 17481.0, 13758.0, 17621.0, 1...  "
      ]
     },
     "execution_count": 53,
     "metadata": {},
     "output_type": "execute_result"
    }
   ],
   "source": [
    "df_churn_pred_agg = df_churn_pred.groupby(['campaign_urgency', 'product_id_high_freq']).agg({'customer_id': 'nunique'}).reset_index()\\\n",
    ".rename(columns={'customer_id':'n_customer'}).sort_values('n_customer', ascending=False)\n",
    "\n",
    "df_churn_pred_agg_2 = df_churn_pred.groupby(['campaign_urgency', 'product_id_high_freq'], as_index=False)['customer_id']\\\n",
    ".agg(lambda x: ', '.join(map(str, set(x))))\n",
    "\n",
    "df_churn_pred_agg_all = pd.merge(df_churn_pred_agg, df_churn_pred_agg_2, how='left', on=['campaign_urgency','product_id_high_freq'])\n",
    "\n",
    "df_churn_pred_agg_all.head(10)\n",
    "\n"
   ]
  },
  {
   "cell_type": "code",
   "execution_count": 54,
   "id": "d7f5dbef-926c-49f3-a75e-f2b6ef184da9",
   "metadata": {},
   "outputs": [
    {
     "data": {
      "text/html": [
       "<div>\n",
       "<style scoped>\n",
       "    .dataframe tbody tr th:only-of-type {\n",
       "        vertical-align: middle;\n",
       "    }\n",
       "\n",
       "    .dataframe tbody tr th {\n",
       "        vertical-align: top;\n",
       "    }\n",
       "\n",
       "    .dataframe thead th {\n",
       "        text-align: right;\n",
       "    }\n",
       "</style>\n",
       "<table border=\"1\" class=\"dataframe\">\n",
       "  <thead>\n",
       "    <tr style=\"text-align: right;\">\n",
       "      <th></th>\n",
       "      <th>product_id</th>\n",
       "      <th>product_description</th>\n",
       "    </tr>\n",
       "  </thead>\n",
       "  <tbody>\n",
       "    <tr>\n",
       "      <th>102</th>\n",
       "      <td>85123A</td>\n",
       "      <td>WHITE HANGING HEART T-LIGHT HOLDER</td>\n",
       "    </tr>\n",
       "    <tr>\n",
       "      <th>1063082</th>\n",
       "      <td>85123A</td>\n",
       "      <td>CREAM HANGING HEART T-LIGHT HOLDER</td>\n",
       "    </tr>\n",
       "  </tbody>\n",
       "</table>\n",
       "</div>"
      ],
      "text/plain": [
       "        product_id                 product_description\n",
       "102         85123A  WHITE HANGING HEART T-LIGHT HOLDER\n",
       "1063082     85123A  CREAM HANGING HEART T-LIGHT HOLDER"
      ]
     },
     "execution_count": 54,
     "metadata": {},
     "output_type": "execute_result"
    }
   ],
   "source": [
    "df[df['product_id'].isin(['85123A'])][['product_id', 'product_description']].drop_duplicates()"
   ]
  },
  {
   "cell_type": "code",
   "execution_count": null,
   "id": "a019b402-850c-4753-a64a-9beb2094b5cd",
   "metadata": {},
   "outputs": [],
   "source": []
  }
 ],
 "metadata": {
  "kernelspec": {
   "display_name": "Python 3 (ipykernel)",
   "language": "python",
   "name": "python3"
  },
  "language_info": {
   "codemirror_mode": {
    "name": "ipython",
    "version": 3
   },
   "file_extension": ".py",
   "mimetype": "text/x-python",
   "name": "python",
   "nbconvert_exporter": "python",
   "pygments_lexer": "ipython3",
   "version": "3.12.7"
  }
 },
 "nbformat": 4,
 "nbformat_minor": 5
}
